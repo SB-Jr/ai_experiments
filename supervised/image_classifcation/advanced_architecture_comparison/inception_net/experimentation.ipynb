{
 "cells": [
  {
   "cell_type": "markdown",
   "metadata": {},
   "source": [
    "# InceptionNet for CIFAR10 + more data"
   ]
  },
  {
   "cell_type": "markdown",
   "metadata": {},
   "source": [
    "## Load data"
   ]
  },
  {
   "cell_type": "code",
   "execution_count": 1,
   "metadata": {
    "execution": {
     "iopub.execute_input": "2021-01-10T04:34:08.799987Z",
     "iopub.status.busy": "2021-01-10T04:34:08.799333Z",
     "iopub.status.idle": "2021-01-10T04:34:09.260831Z",
     "shell.execute_reply": "2021-01-10T04:34:09.260180Z",
     "shell.execute_reply.started": "2021-01-10T04:34:08.799899Z"
    }
   },
   "outputs": [],
   "source": [
    "import cifar10_loader\n",
    "import matplotlib.pyplot as plt"
   ]
  },
  {
   "cell_type": "code",
   "execution_count": 2,
   "metadata": {
    "execution": {
     "iopub.execute_input": "2021-01-10T04:34:09.930271Z",
     "iopub.status.busy": "2021-01-10T04:34:09.929573Z",
     "iopub.status.idle": "2021-01-10T04:34:41.606426Z",
     "shell.execute_reply": "2021-01-10T04:34:41.605747Z",
     "shell.execute_reply.started": "2021-01-10T04:34:09.930183Z"
    }
   },
   "outputs": [],
   "source": [
    "train_x, train_y, val_x, val_y = cifar10_loader.load_data(limit=5, shuffle=True)"
   ]
  },
  {
   "cell_type": "code",
   "execution_count": 3,
   "metadata": {
    "execution": {
     "iopub.execute_input": "2021-01-10T04:34:41.607504Z",
     "iopub.status.busy": "2021-01-10T04:34:41.607314Z",
     "iopub.status.idle": "2021-01-10T04:34:41.611650Z",
     "shell.execute_reply": "2021-01-10T04:34:41.610885Z",
     "shell.execute_reply.started": "2021-01-10T04:34:41.607481Z"
    }
   },
   "outputs": [
    {
     "name": "stdout",
     "output_type": "stream",
     "text": [
      "(49900, 32, 32, 3)\n",
      "(49900,)\n",
      "(100, 32, 32, 3)\n",
      "(100,)\n"
     ]
    }
   ],
   "source": [
    "print(train_x.shape)\n",
    "print(train_y.shape)\n",
    "print(val_x.shape)\n",
    "print(val_y.shape)"
   ]
  },
  {
   "cell_type": "code",
   "execution_count": 4,
   "metadata": {
    "execution": {
     "iopub.execute_input": "2021-01-10T04:34:41.613614Z",
     "iopub.status.busy": "2021-01-10T04:34:41.613300Z",
     "iopub.status.idle": "2021-01-10T04:34:41.946032Z",
     "shell.execute_reply": "2021-01-10T04:34:41.945037Z",
     "shell.execute_reply.started": "2021-01-10T04:34:41.613576Z"
    }
   },
   "outputs": [
    {
     "data": {
      "text/plain": [
       "<matplotlib.image.AxesImage at 0x7efdce9a1e80>"
      ]
     },
     "execution_count": 4,
     "metadata": {},
     "output_type": "execute_result"
    },
    {
     "data": {
      "image/png": "[encoded data removed]",
      "text/plain": [
       "<Figure size 432x288 with 1 Axes>"
      ]
     },
     "metadata": {
      "needs_background": "light"
     },
     "output_type": "display_data"
    }
   ],
   "source": [
    "plt.imshow(train_x[0])"
   ]
  },
  {
   "cell_type": "markdown",
   "metadata": {},
   "source": [
    "## Model"
   ]
  },
  {
   "cell_type": "code",
   "execution_count": 5,
   "metadata": {
    "execution": {
     "iopub.execute_input": "2021-01-10T04:34:55.682493Z",
     "iopub.status.busy": "2021-01-10T04:34:55.681787Z",
     "iopub.status.idle": "2021-01-10T04:34:57.723887Z",
     "shell.execute_reply": "2021-01-10T04:34:57.723253Z",
     "shell.execute_reply.started": "2021-01-10T04:34:55.682415Z"
    }
   },
   "outputs": [],
   "source": [
    "import tensorflow as tf\n",
    "import kerastuner as kt"
   ]
  },
  {
   "cell_type": "code",
   "execution_count": 63,
   "metadata": {
    "execution": {
     "iopub.execute_input": "2021-01-10T10:53:13.294156Z",
     "iopub.status.busy": "2021-01-10T10:53:13.293459Z",
     "iopub.status.idle": "2021-01-10T10:53:13.303512Z",
     "shell.execute_reply": "2021-01-10T10:53:13.300675Z",
     "shell.execute_reply.started": "2021-01-10T10:53:13.294079Z"
    }
   },
   "outputs": [],
   "source": [
    "IMAGE_SIZE = 225\n",
    "BATCH_SIZE = 32\n",
    "TRAIN_LAYER_LIMIT = 10\n",
    "LEARNING_RATE = 1e-5"
   ]
  },
  {
   "cell_type": "code",
   "execution_count": 64,
   "metadata": {
    "execution": {
     "iopub.execute_input": "2021-01-10T10:53:14.384365Z",
     "iopub.status.busy": "2021-01-10T10:53:14.383714Z",
     "iopub.status.idle": "2021-01-10T10:53:14.406142Z",
     "shell.execute_reply": "2021-01-10T10:53:14.403503Z",
     "shell.execute_reply.started": "2021-01-10T10:53:14.384292Z"
    }
   },
   "outputs": [],
   "source": [
    "def get_modified_inception_net():\n",
    "    inception_net = tf.keras.applications.inception_v3.InceptionV3(\n",
    "        input_shape=(IMAGE_SIZE, IMAGE_SIZE, 3),\n",
    "        include_top=False,\n",
    "        weights='imagenet'\n",
    "    )\n",
    "    if TRAIN_LAYER_LIMIT == 0:\n",
    "        for layer in inception_net.layers:\n",
    "            layer.trainable = False\n",
    "    else:\n",
    "        for layer in inception_net.layers[TRAIN_LAYER_LIMIT:]:\n",
    "            layer.trainable = False\n",
    "    my_inception_net_model = tf.keras.Sequential([\n",
    "        tf.keras.layers.Lambda(lambda image: tf.image.resize(image, (IMAGE_SIZE, IMAGE_SIZE))),\n",
    "        inception_net,\n",
    "        tf.keras.layers.Flatten(),\n",
    "        tf.keras.layers.Dense(2048, activation='relu'),\n",
    "        tf.keras.layers.Dropout(0.6),\n",
    "        tf.keras.layers.Dense(1024, activation='relu'),\n",
    "        tf.keras.layers.Dropout(0.6),\n",
    "        tf.keras.layers.Dense(10, activation='softmax')\n",
    "    ])\n",
    "    adam = tf.keras.optimizers.Adam(learning_rate=LEARNING_RATE)\n",
    "    my_inception_net_model.compile(adam, 'sparse_categorical_crossentropy', metrics=['accuracy'])\n",
    "    return my_inception_net_model"
   ]
  },
  {
   "cell_type": "code",
   "execution_count": 65,
   "metadata": {
    "execution": {
     "iopub.execute_input": "2021-01-10T10:53:15.775894Z",
     "iopub.status.busy": "2021-01-10T10:53:15.775414Z",
     "iopub.status.idle": "2021-01-10T10:53:18.068260Z",
     "shell.execute_reply": "2021-01-10T10:53:18.066397Z",
     "shell.execute_reply.started": "2021-01-10T10:53:15.775841Z"
    }
   },
   "outputs": [],
   "source": [
    "my_inception_net_model = get_modified_inception_net()"
   ]
  },
  {
   "cell_type": "code",
   "execution_count": 66,
   "metadata": {
    "execution": {
     "iopub.execute_input": "2021-01-10T10:53:18.999470Z",
     "iopub.status.busy": "2021-01-10T10:53:18.998857Z",
     "iopub.status.idle": "2021-01-10T10:53:19.012596Z",
     "shell.execute_reply": "2021-01-10T10:53:19.010615Z",
     "shell.execute_reply.started": "2021-01-10T10:53:18.999401Z"
    }
   },
   "outputs": [],
   "source": [
    "validation_accuracy_callback = tf.keras.callbacks.EarlyStopping(\n",
    "    monitor='val_accuracy',\n",
    "    patience=7,\n",
    ")\n",
    "training_accuracy_callback = tf.keras.callbacks.EarlyStopping(\n",
    "    monitor='accuracy',\n",
    "    patience=7,\n",
    ")\n",
    "reduce_lr_on_plateau = tf.keras.callbacks.ReduceLROnPlateau(\n",
    "    monitor='val_accuracy',\n",
    "    factor=0.6,\n",
    "    patience=2,\n",
    "    verbose=1,\n",
    "    mode='max',\n",
    "    min_lr=1e-7\n",
    ")\n",
    "callbacks = [validation_accuracy_callback, training_accuracy_callback, reduce_lr_on_plateau]"
   ]
  },
  {
   "cell_type": "code",
   "execution_count": 67,
   "metadata": {
    "execution": {
     "iopub.execute_input": "2021-01-10T10:53:26.514301Z",
     "iopub.status.busy": "2021-01-10T10:53:26.513349Z",
     "iopub.status.idle": "2021-01-10T14:23:43.755871Z",
     "shell.execute_reply": "2021-01-10T14:23:43.754086Z",
     "shell.execute_reply.started": "2021-01-10T10:53:26.514178Z"
    }
   },
   "outputs": [
    {
     "name": "stdout",
     "output_type": "stream",
     "text": [
      "Epoch 1/100\n",
      "1560/1560 [==============================] - 570s 362ms/step - loss: 2.0899 - accuracy: 0.3557 - val_loss: 0.8551 - val_accuracy: 0.7300\n",
      "Epoch 2/100\n",
      "1560/1560 [==============================] - 546s 350ms/step - loss: 1.0945 - accuracy: 0.6268 - val_loss: 0.7173 - val_accuracy: 0.7700\n",
      "Epoch 3/100\n",
      "1560/1560 [==============================] - 547s 350ms/step - loss: 0.9160 - accuracy: 0.6891 - val_loss: 0.6365 - val_accuracy: 0.7900\n",
      "Epoch 4/100\n",
      "1560/1560 [==============================] - 546s 350ms/step - loss: 0.8080 - accuracy: 0.7268 - val_loss: 0.6248 - val_accuracy: 0.7800\n",
      "Epoch 5/100\n",
      "1560/1560 [==============================] - 547s 351ms/step - loss: 0.7052 - accuracy: 0.7595 - val_loss: 0.5656 - val_accuracy: 0.8300\n",
      "Epoch 6/100\n",
      "1560/1560 [==============================] - 548s 351ms/step - loss: 0.6420 - accuracy: 0.7834 - val_loss: 0.5175 - val_accuracy: 0.8400\n",
      "Epoch 7/100\n",
      "1560/1560 [==============================] - 550s 352ms/step - loss: 0.5888 - accuracy: 0.7984 - val_loss: 0.5091 - val_accuracy: 0.8300\n",
      "Epoch 8/100\n",
      "1560/1560 [==============================] - 547s 351ms/step - loss: 0.5408 - accuracy: 0.8146 - val_loss: 0.5020 - val_accuracy: 0.8400\n",
      "\n",
      "Epoch 00008: ReduceLROnPlateau reducing learning rate to 5.999999848427251e-06.\n",
      "Epoch 9/100\n",
      "1560/1560 [==============================] - 545s 350ms/step - loss: 0.4658 - accuracy: 0.8431 - val_loss: 0.4806 - val_accuracy: 0.8400\n",
      "Epoch 10/100\n",
      "1560/1560 [==============================] - 545s 349ms/step - loss: 0.4235 - accuracy: 0.8566 - val_loss: 0.4755 - val_accuracy: 0.8400\n",
      "\n",
      "Epoch 00010: ReduceLROnPlateau reducing learning rate to 3.5999998544866682e-06.\n",
      "Epoch 11/100\n",
      "1560/1560 [==============================] - 545s 349ms/step - loss: 0.3727 - accuracy: 0.8723 - val_loss: 0.4595 - val_accuracy: 0.8300\n",
      "Epoch 12/100\n",
      "1560/1560 [==============================] - 545s 349ms/step - loss: 0.3537 - accuracy: 0.8803 - val_loss: 0.4287 - val_accuracy: 0.8700\n",
      "Epoch 13/100\n",
      "1560/1560 [==============================] - 545s 349ms/step - loss: 0.3325 - accuracy: 0.8861 - val_loss: 0.4410 - val_accuracy: 0.8300\n",
      "Epoch 14/100\n",
      "1560/1560 [==============================] - 545s 350ms/step - loss: 0.3177 - accuracy: 0.8926 - val_loss: 0.4486 - val_accuracy: 0.8300\n",
      "\n",
      "Epoch 00014: ReduceLROnPlateau reducing learning rate to 2.159999939976842e-06.\n",
      "Epoch 15/100\n",
      "1560/1560 [==============================] - 545s 349ms/step - loss: 0.2871 - accuracy: 0.9023 - val_loss: 0.4555 - val_accuracy: 0.8400\n",
      "Epoch 16/100\n",
      "1560/1560 [==============================] - 545s 349ms/step - loss: 0.2812 - accuracy: 0.9034 - val_loss: 0.4355 - val_accuracy: 0.8800\n",
      "Epoch 17/100\n",
      "1560/1560 [==============================] - 549s 352ms/step - loss: 0.2676 - accuracy: 0.9088 - val_loss: 0.4191 - val_accuracy: 0.8700\n",
      "Epoch 18/100\n",
      "1560/1560 [==============================] - 547s 351ms/step - loss: 0.2563 - accuracy: 0.9135 - val_loss: 0.4610 - val_accuracy: 0.8500\n",
      "\n",
      "Epoch 00018: ReduceLROnPlateau reducing learning rate to 1.2959999367012642e-06.\n",
      "Epoch 19/100\n",
      "1560/1560 [==============================] - 546s 350ms/step - loss: 0.2493 - accuracy: 0.9159 - val_loss: 0.4414 - val_accuracy: 0.8500\n",
      "Epoch 20/100\n",
      "1560/1560 [==============================] - 549s 352ms/step - loss: 0.2328 - accuracy: 0.9218 - val_loss: 0.4366 - val_accuracy: 0.8500\n",
      "\n",
      "Epoch 00020: ReduceLROnPlateau reducing learning rate to 7.775999620207585e-07.\n",
      "Epoch 21/100\n",
      "1560/1560 [==============================] - 552s 354ms/step - loss: 0.2207 - accuracy: 0.9262 - val_loss: 0.4332 - val_accuracy: 0.8500\n",
      "Epoch 22/100\n",
      "1560/1560 [==============================] - 553s 355ms/step - loss: 0.2197 - accuracy: 0.9279 - val_loss: 0.4432 - val_accuracy: 0.8300\n",
      "\n",
      "Epoch 00022: ReduceLROnPlateau reducing learning rate to 4.6655997039124485e-07.\n",
      "Epoch 23/100\n",
      "1560/1560 [==============================] - 557s 357ms/step - loss: 0.2146 - accuracy: 0.9288 - val_loss: 0.4438 - val_accuracy: 0.8500\n"
     ]
    }
   ],
   "source": [
    "history = my_inception_net_model.fit(\n",
    "    train_x,\n",
    "    train_y,\n",
    "    batch_size=BATCH_SIZE,\n",
    "    validation_data=(val_x, val_y),\n",
    "    epochs=100,\n",
    "    callbacks=callbacks\n",
    ")"
   ]
  },
  {
   "cell_type": "code",
   "execution_count": 68,
   "metadata": {
    "execution": {
     "iopub.execute_input": "2021-01-10T14:37:42.662625Z",
     "iopub.status.busy": "2021-01-10T14:37:42.661777Z",
     "iopub.status.idle": "2021-01-10T14:37:42.903380Z",
     "shell.execute_reply": "2021-01-10T14:37:42.901557Z",
     "shell.execute_reply.started": "2021-01-10T14:37:42.662524Z"
    }
   },
   "outputs": [
    {
     "data": {
      "text/plain": [
       "[<matplotlib.lines.Line2D at 0x7efe112ef820>]"
      ]
     },
     "execution_count": 68,
     "metadata": {},
     "output_type": "execute_result"
    },
    {
     "data": {
      "image/png": "[encoded data removed]",
      "text/plain": [
       "<Figure size 432x288 with 1 Axes>"
      ]
     },
     "metadata": {
      "needs_background": "light"
     },
     "output_type": "display_data"
    }
   ],
   "source": [
    "plt.plot(history.history['accuracy'])\n",
    "plt.plot(history.history['val_accuracy'])"
   ]
  },
  {
   "cell_type": "code",
   "execution_count": 69,
   "metadata": {
    "execution": {
     "iopub.execute_input": "2021-01-10T14:37:47.389350Z",
     "iopub.status.busy": "2021-01-10T14:37:47.388624Z",
     "iopub.status.idle": "2021-01-10T14:37:47.400272Z",
     "shell.execute_reply": "2021-01-10T14:37:47.397433Z",
     "shell.execute_reply.started": "2021-01-10T14:37:47.389271Z"
    }
   },
   "outputs": [],
   "source": [
    "history_dict = {}\n",
    "for key, value in history.history.items():\n",
    "    history_dict[str(key)] = [float(i) for i in value]"
   ]
  },
  {
   "cell_type": "code",
   "execution_count": 70,
   "metadata": {
    "execution": {
     "iopub.execute_input": "2021-01-10T14:37:48.784631Z",
     "iopub.status.busy": "2021-01-10T14:37:48.783718Z",
     "iopub.status.idle": "2021-01-10T14:37:48.795918Z",
     "shell.execute_reply": "2021-01-10T14:37:48.793295Z",
     "shell.execute_reply.started": "2021-01-10T14:37:48.784552Z"
    }
   },
   "outputs": [],
   "source": [
    "import json\n",
    "with open('lr_{0}_{1}x{1}_{2}.json'.format(LEARNING_RATE, IMAGE_SIZE, TRAIN_LAYER_LIMIT), 'w') as f:\n",
    "    json.dump(history_dict, f)"
   ]
  },
  {
   "cell_type": "code",
   "execution_count": 71,
   "metadata": {
    "execution": {
     "iopub.execute_input": "2021-01-10T14:37:55.310462Z",
     "iopub.status.busy": "2021-01-10T14:37:55.309399Z",
     "iopub.status.idle": "2021-01-10T14:37:55.390051Z",
     "shell.execute_reply": "2021-01-10T14:37:55.387866Z",
     "shell.execute_reply.started": "2021-01-10T14:37:55.310335Z"
    }
   },
   "outputs": [
    {
     "name": "stdout",
     "output_type": "stream",
     "text": [
      "Model: \"sequential_3\"\n",
      "_________________________________________________________________\n",
      "Layer (type)                 Output Shape              Param #   \n",
      "=================================================================\n",
      "lambda_3 (Lambda)            (None, 225, 225, 3)       0         \n",
      "_________________________________________________________________\n",
      "inception_v3 (Functional)    (None, 5, 5, 2048)        21802784  \n",
      "_________________________________________________________________\n",
      "flatten_3 (Flatten)          (None, 51200)             0         \n",
      "_________________________________________________________________\n",
      "dense_7 (Dense)              (None, 2048)              104859648 \n",
      "_________________________________________________________________\n",
      "dropout_4 (Dropout)          (None, 2048)              0         \n",
      "_________________________________________________________________\n",
      "dense_8 (Dense)              (None, 1024)              2098176   \n",
      "_________________________________________________________________\n",
      "dropout_5 (Dropout)          (None, 1024)              0         \n",
      "_________________________________________________________________\n",
      "dense_9 (Dense)              (None, 10)                10250     \n",
      "=================================================================\n",
      "Total params: 128,770,858\n",
      "Trainable params: 106,996,714\n",
      "Non-trainable params: 21,774,144\n",
      "_________________________________________________________________\n"
     ]
    }
   ],
   "source": [
    "my_inception_net_model.summary()"
   ]
  },
  {
   "cell_type": "code",
   "execution_count": null,
   "metadata": {},
   "outputs": [],
   "source": []
  }
 ],
 "metadata": {
  "kernelspec": {
   "display_name": "tf-gpu-2.3",
   "language": "python",
   "name": "tf-gpu-2.3"
  },
  "language_info": {
   "codemirror_mode": {
    "name": "ipython",
    "version": 3
   },
   "file_extension": ".py",
   "mimetype": "text/x-python",
   "name": "python",
   "nbconvert_exporter": "python",
   "pygments_lexer": "ipython3",
   "version": "3.8.3"
  },
  "widgets": {
   "application/vnd.jupyter.widget-state+json": {
    "state": {},
    "version_major": 2,
    "version_minor": 0
   }
  }
 },
 "nbformat": 4,
 "nbformat_minor": 4
}
