{
 "cells": [
  {
   "cell_type": "markdown",
   "metadata": {},
   "source": [
    "# InceptionNet with CIFAR10\n",
    "\n",
    "Using inception net as the base model for learning cifar-10 dataset."
   ]
  },
  {
   "cell_type": "markdown",
   "metadata": {
    "execution": {
     "iopub.execute_input": "2021-01-07T10:21:17.672193Z",
     "iopub.status.busy": "2021-01-07T10:21:17.671495Z",
     "iopub.status.idle": "2021-01-07T10:21:17.707930Z",
     "shell.execute_reply": "2021-01-07T10:21:17.704310Z",
     "shell.execute_reply.started": "2021-01-07T10:21:17.672114Z"
    }
   },
   "source": [
    "## The Dataset\n",
    "\n",
    "Here I have used the CIFAR-10 dataset which is basically a set of 6 `pickle` files, the first 5 pickle files containing 1000 32x32 RGB images each and the last containing images for testing. To read these images we need load the pickle file, parse it and store the parsed data which we have to later pass to the model for training and validation."
   ]
  },
  {
   "cell_type": "code",
   "execution_count": 1,
   "metadata": {
    "execution": {
     "iopub.execute_input": "2021-01-08T14:35:11.183602Z",
     "iopub.status.busy": "2021-01-08T14:35:11.182948Z",
     "iopub.status.idle": "2021-01-08T14:35:11.710477Z",
     "shell.execute_reply": "2021-01-08T14:35:11.709664Z",
     "shell.execute_reply.started": "2021-01-08T14:35:11.183527Z"
    }
   },
   "outputs": [],
   "source": [
    "import pickle\n",
    "import os\n",
    "import numpy as np\n",
    "import matplotlib.pyplot as plt"
   ]
  },
  {
   "cell_type": "code",
   "execution_count": 2,
   "metadata": {
    "execution": {
     "iopub.execute_input": "2021-01-08T14:35:12.267552Z",
     "iopub.status.busy": "2021-01-08T14:35:12.266916Z",
     "iopub.status.idle": "2021-01-08T14:35:12.275651Z",
     "shell.execute_reply": "2021-01-08T14:35:12.273331Z",
     "shell.execute_reply.started": "2021-01-08T14:35:12.267478Z"
    }
   },
   "outputs": [],
   "source": [
    "dataset_path = '../dataset/cifar-10-batches-py/'"
   ]
  },
  {
   "cell_type": "markdown",
   "metadata": {},
   "source": [
    "These are the labels which are stored in forms of indices in the pickle file. We dont need the labels until we want to visualize the images and the labels ourselves."
   ]
  },
  {
   "cell_type": "code",
   "execution_count": 3,
   "metadata": {
    "execution": {
     "iopub.execute_input": "2021-01-08T14:35:12.925607Z",
     "iopub.status.busy": "2021-01-08T14:35:12.924620Z",
     "iopub.status.idle": "2021-01-08T14:35:12.936794Z",
     "shell.execute_reply": "2021-01-08T14:35:12.934531Z",
     "shell.execute_reply.started": "2021-01-08T14:35:12.925488Z"
    }
   },
   "outputs": [],
   "source": [
    "labels = ['airplane', 'automobile', 'bird', 'cat', 'dear', 'dog', 'frog', 'horse', 'ship', 'truck']"
   ]
  },
  {
   "cell_type": "code",
   "execution_count": 4,
   "metadata": {
    "execution": {
     "iopub.execute_input": "2021-01-08T14:35:13.534979Z",
     "iopub.status.busy": "2021-01-08T14:35:13.534398Z",
     "iopub.status.idle": "2021-01-08T14:35:13.543564Z",
     "shell.execute_reply": "2021-01-08T14:35:13.541565Z",
     "shell.execute_reply.started": "2021-01-08T14:35:13.534912Z"
    }
   },
   "outputs": [],
   "source": [
    "def read_batch(batch_path):\n",
    "    with open(batch_path, 'rb') as batch:\n",
    "        batch_data = pickle.load(batch, encoding='bytes')\n",
    "    return batch_data"
   ]
  },
  {
   "cell_type": "code",
   "execution_count": 5,
   "metadata": {
    "execution": {
     "iopub.execute_input": "2021-01-08T14:35:14.476734Z",
     "iopub.status.busy": "2021-01-08T14:35:14.475874Z",
     "iopub.status.idle": "2021-01-08T14:35:14.486478Z",
     "shell.execute_reply": "2021-01-08T14:35:14.483682Z",
     "shell.execute_reply.started": "2021-01-08T14:35:14.476648Z"
    }
   },
   "outputs": [],
   "source": [
    "batch_1 = os.path.join(dataset_path, 'data_batch_1')"
   ]
  },
  {
   "cell_type": "code",
   "execution_count": 6,
   "metadata": {
    "execution": {
     "iopub.execute_input": "2021-01-08T14:35:14.969716Z",
     "iopub.status.busy": "2021-01-08T14:35:14.969078Z",
     "iopub.status.idle": "2021-01-08T14:35:15.084239Z",
     "shell.execute_reply": "2021-01-08T14:35:15.082241Z",
     "shell.execute_reply.started": "2021-01-08T14:35:14.969642Z"
    }
   },
   "outputs": [],
   "source": [
    "batch_1_data = read_batch(batch_1)"
   ]
  },
  {
   "cell_type": "markdown",
   "metadata": {},
   "source": [
    "Each pickle file we read, the data is obtained in form of a dictionary where the value corresponding to the 'data' key is the collection of 1000 32x32 images and the value correspoding to the 'label' key is the 1000 labels associated with each image."
   ]
  },
  {
   "cell_type": "code",
   "execution_count": 7,
   "metadata": {
    "execution": {
     "iopub.execute_input": "2021-01-08T14:35:15.631964Z",
     "iopub.status.busy": "2021-01-08T14:35:15.631229Z",
     "iopub.status.idle": "2021-01-08T14:35:15.704976Z",
     "shell.execute_reply": "2021-01-08T14:35:15.702396Z",
     "shell.execute_reply.started": "2021-01-08T14:35:15.631850Z"
    }
   },
   "outputs": [
    {
     "data": {
      "text/plain": [
       "dict_keys([b'batch_label', b'labels', b'data', b'filenames'])"
      ]
     },
     "execution_count": 7,
     "metadata": {},
     "output_type": "execute_result"
    }
   ],
   "source": [
    "batch_1_data.keys()"
   ]
  },
  {
   "cell_type": "code",
   "execution_count": 8,
   "metadata": {
    "execution": {
     "iopub.execute_input": "2021-01-08T14:35:16.396090Z",
     "iopub.status.busy": "2021-01-08T14:35:16.395448Z",
     "iopub.status.idle": "2021-01-08T14:35:16.406045Z",
     "shell.execute_reply": "2021-01-08T14:35:16.403089Z",
     "shell.execute_reply.started": "2021-01-08T14:35:16.396015Z"
    }
   },
   "outputs": [],
   "source": [
    "batch_2 = os.path.join(dataset_path, 'data_batch_2')"
   ]
  },
  {
   "cell_type": "markdown",
   "metadata": {},
   "source": [
    "### Looking at example data"
   ]
  },
  {
   "cell_type": "code",
   "execution_count": 9,
   "metadata": {
    "execution": {
     "iopub.execute_input": "2021-01-08T14:35:17.913805Z",
     "iopub.status.busy": "2021-01-08T14:35:17.913170Z",
     "iopub.status.idle": "2021-01-08T14:35:17.924665Z",
     "shell.execute_reply": "2021-01-08T14:35:17.921756Z",
     "shell.execute_reply.started": "2021-01-08T14:35:17.913728Z"
    }
   },
   "outputs": [],
   "source": [
    "a = np.array(batch_1_data[b'data'][200])"
   ]
  },
  {
   "cell_type": "code",
   "execution_count": 10,
   "metadata": {
    "execution": {
     "iopub.execute_input": "2021-01-08T14:35:18.846395Z",
     "iopub.status.busy": "2021-01-08T14:35:18.845757Z",
     "iopub.status.idle": "2021-01-08T14:35:18.858591Z",
     "shell.execute_reply": "2021-01-08T14:35:18.856213Z",
     "shell.execute_reply.started": "2021-01-08T14:35:18.846319Z"
    }
   },
   "outputs": [
    {
     "data": {
      "text/plain": [
       "(3072,)"
      ]
     },
     "execution_count": 10,
     "metadata": {},
     "output_type": "execute_result"
    }
   ],
   "source": [
    "a.shape"
   ]
  },
  {
   "cell_type": "code",
   "execution_count": 11,
   "metadata": {
    "execution": {
     "iopub.execute_input": "2021-01-08T14:35:19.550567Z",
     "iopub.status.busy": "2021-01-08T14:35:19.549899Z",
     "iopub.status.idle": "2021-01-08T14:35:19.560739Z",
     "shell.execute_reply": "2021-01-08T14:35:19.557971Z",
     "shell.execute_reply.started": "2021-01-08T14:35:19.550487Z"
    }
   },
   "outputs": [],
   "source": [
    "a = a.reshape((3, 32, 32))"
   ]
  },
  {
   "cell_type": "code",
   "execution_count": 12,
   "metadata": {
    "execution": {
     "iopub.execute_input": "2021-01-08T14:35:20.054046Z",
     "iopub.status.busy": "2021-01-08T14:35:20.053403Z",
     "iopub.status.idle": "2021-01-08T14:35:20.063818Z",
     "shell.execute_reply": "2021-01-08T14:35:20.061211Z",
     "shell.execute_reply.started": "2021-01-08T14:35:20.053969Z"
    }
   },
   "outputs": [],
   "source": [
    "a = a.transpose([1, 2, 0])"
   ]
  },
  {
   "cell_type": "code",
   "execution_count": 13,
   "metadata": {
    "execution": {
     "iopub.execute_input": "2021-01-08T14:35:20.564551Z",
     "iopub.status.busy": "2021-01-08T14:35:20.563851Z",
     "iopub.status.idle": "2021-01-08T14:35:20.845739Z",
     "shell.execute_reply": "2021-01-08T14:35:20.843998Z",
     "shell.execute_reply.started": "2021-01-08T14:35:20.564471Z"
    }
   },
   "outputs": [
    {
     "data": {
      "text/plain": [
       "<matplotlib.image.AxesImage at 0x7f25bc79df70>"
      ]
     },
     "execution_count": 13,
     "metadata": {},
     "output_type": "execute_result"
    },
    {
     "data": {
      "image/png": "[encoded data removed]",
      "text/plain": [
       "<Figure size 72x72 with 1 Axes>"
      ]
     },
     "metadata": {
      "needs_background": "light"
     },
     "output_type": "display_data"
    }
   ],
   "source": [
    "plt.figure(figsize=(1, 1))\n",
    "plt.imshow(a)"
   ]
  },
  {
   "cell_type": "code",
   "execution_count": 14,
   "metadata": {
    "execution": {
     "iopub.execute_input": "2021-01-08T14:35:21.226396Z",
     "iopub.status.busy": "2021-01-08T14:35:21.225737Z",
     "iopub.status.idle": "2021-01-08T14:35:21.240166Z",
     "shell.execute_reply": "2021-01-08T14:35:21.237257Z",
     "shell.execute_reply.started": "2021-01-08T14:35:21.226317Z"
    }
   },
   "outputs": [
    {
     "data": {
      "text/plain": [
       "6"
      ]
     },
     "execution_count": 14,
     "metadata": {},
     "output_type": "execute_result"
    }
   ],
   "source": [
    "batch_1_data[b'labels'][200]"
   ]
  },
  {
   "cell_type": "markdown",
   "metadata": {},
   "source": [
    "##  Manual Data Manipulation\n",
    "\n",
    "Here I will manually handle the preprocessing of the data that needs to be given for training the model.\n",
    "\n",
    "It contains the following steps:\n",
    "- Extract dictionary from the pickle file\n",
    "- Extract the images and labels from the dictionary\n",
    "- Convert the collection of images and dictionary into numpy array for compatibility\n",
    "- Normalize the images"
   ]
  },
  {
   "cell_type": "code",
   "execution_count": 51,
   "metadata": {
    "execution": {
     "iopub.execute_input": "2021-01-08T14:53:28.203646Z",
     "iopub.status.busy": "2021-01-08T14:53:28.202553Z",
     "iopub.status.idle": "2021-01-08T14:53:28.230190Z",
     "shell.execute_reply": "2021-01-08T14:53:28.227452Z",
     "shell.execute_reply.started": "2021-01-08T14:53:28.203508Z"
    }
   },
   "outputs": [],
   "source": [
    "def convert_to_array(batch_path):\n",
    "    # this methods normalizes the images\n",
    "    def preprocess(image):\n",
    "        image = image/255.0\n",
    "        return image\n",
    "    preprocess_vf = np.vectorize(preprocess)\n",
    "    \n",
    "    # here we read the pickle file and extract the images and labels\n",
    "    # we also convert them into numpy array format\n",
    "    # later we use the preprocess method to normalize the images\n",
    "    with open(batch_path, 'rb') as batch:\n",
    "        batch_data = pickle.load(batch, encoding='bytes')\n",
    "        images = batch_data[b'data']\n",
    "        images = images.reshape((-1, 3, 32, 32))\n",
    "        images = images.transpose([0, 3, 2, 1])\n",
    "        images = preprocess_vf(images)\n",
    "        labels = np.array(batch_data[b'labels'])\n",
    "        return images, labels"
   ]
  },
  {
   "cell_type": "code",
   "execution_count": 19,
   "metadata": {
    "execution": {
     "iopub.execute_input": "2021-01-08T14:37:18.353387Z",
     "iopub.status.busy": "2021-01-08T14:37:18.352749Z",
     "iopub.status.idle": "2021-01-08T14:37:25.038561Z",
     "shell.execute_reply": "2021-01-08T14:37:25.037845Z",
     "shell.execute_reply.started": "2021-01-08T14:37:18.353312Z"
    }
   },
   "outputs": [],
   "source": [
    "train_data_x, train_data_y = convert_to_array(batch_1)"
   ]
  },
  {
   "cell_type": "code",
   "execution_count": 20,
   "metadata": {
    "execution": {
     "iopub.execute_input": "2021-01-08T14:37:26.953805Z",
     "iopub.status.busy": "2021-01-08T14:37:26.953223Z",
     "iopub.status.idle": "2021-01-08T14:37:26.966664Z",
     "shell.execute_reply": "2021-01-08T14:37:26.964063Z",
     "shell.execute_reply.started": "2021-01-08T14:37:26.953735Z"
    }
   },
   "outputs": [
    {
     "data": {
      "text/plain": [
       "(10000, 32, 32, 3)"
      ]
     },
     "execution_count": 20,
     "metadata": {},
     "output_type": "execute_result"
    }
   ],
   "source": [
    "train_data_x.shape"
   ]
  },
  {
   "cell_type": "code",
   "execution_count": 21,
   "metadata": {
    "execution": {
     "iopub.execute_input": "2021-01-08T14:37:27.890050Z",
     "iopub.status.busy": "2021-01-08T14:37:27.889081Z",
     "iopub.status.idle": "2021-01-08T14:37:27.904370Z",
     "shell.execute_reply": "2021-01-08T14:37:27.901582Z",
     "shell.execute_reply.started": "2021-01-08T14:37:27.889930Z"
    }
   },
   "outputs": [
    {
     "data": {
      "text/plain": [
       "numpy.ndarray"
      ]
     },
     "execution_count": 21,
     "metadata": {},
     "output_type": "execute_result"
    }
   ],
   "source": [
    "type(train_data_x)"
   ]
  },
  {
   "cell_type": "code",
   "execution_count": 22,
   "metadata": {
    "execution": {
     "iopub.execute_input": "2021-01-08T14:37:28.606601Z",
     "iopub.status.busy": "2021-01-08T14:37:28.605947Z",
     "iopub.status.idle": "2021-01-08T14:37:28.618714Z",
     "shell.execute_reply": "2021-01-08T14:37:28.616490Z",
     "shell.execute_reply.started": "2021-01-08T14:37:28.606524Z"
    }
   },
   "outputs": [
    {
     "data": {
      "text/plain": [
       "numpy.ndarray"
      ]
     },
     "execution_count": 22,
     "metadata": {},
     "output_type": "execute_result"
    }
   ],
   "source": [
    "type(train_data_y)"
   ]
  },
  {
   "cell_type": "code",
   "execution_count": 23,
   "metadata": {
    "execution": {
     "iopub.execute_input": "2021-01-08T14:37:29.409375Z",
     "iopub.status.busy": "2021-01-08T14:37:29.408740Z",
     "iopub.status.idle": "2021-01-08T14:37:29.725598Z",
     "shell.execute_reply": "2021-01-08T14:37:29.724803Z",
     "shell.execute_reply.started": "2021-01-08T14:37:29.409300Z"
    }
   },
   "outputs": [
    {
     "data": {
      "text/plain": [
       "<matplotlib.image.AxesImage at 0x7f25bb42db20>"
      ]
     },
     "execution_count": 23,
     "metadata": {},
     "output_type": "execute_result"
    },
    {
     "data": {
      "image/png": "[encoded data removed]",
      "text/plain": [
       "<Figure size 432x288 with 1 Axes>"
      ]
     },
     "metadata": {
      "needs_background": "light"
     },
     "output_type": "display_data"
    }
   ],
   "source": [
    "plt.imshow(train_data_x[1])"
   ]
  },
  {
   "cell_type": "code",
   "execution_count": 24,
   "metadata": {
    "execution": {
     "iopub.execute_input": "2021-01-08T14:37:37.555532Z",
     "iopub.status.busy": "2021-01-08T14:37:37.554821Z",
     "iopub.status.idle": "2021-01-08T14:37:44.272460Z",
     "shell.execute_reply": "2021-01-08T14:37:44.271763Z",
     "shell.execute_reply.started": "2021-01-08T14:37:37.555452Z"
    }
   },
   "outputs": [],
   "source": [
    "validation_data_x, validation_data_y = convert_to_array(batch_2)"
   ]
  },
  {
   "cell_type": "code",
   "execution_count": 25,
   "metadata": {
    "execution": {
     "iopub.execute_input": "2021-01-08T14:37:44.817657Z",
     "iopub.status.busy": "2021-01-08T14:37:44.817016Z",
     "iopub.status.idle": "2021-01-08T14:37:45.147872Z",
     "shell.execute_reply": "2021-01-08T14:37:45.147303Z",
     "shell.execute_reply.started": "2021-01-08T14:37:44.817546Z"
    }
   },
   "outputs": [
    {
     "data": {
      "text/plain": [
       "<matplotlib.image.AxesImage at 0x7f25bb85dee0>"
      ]
     },
     "execution_count": 25,
     "metadata": {},
     "output_type": "execute_result"
    },
    {
     "data": {
      "image/png": "[encoded data removed]",
      "text/plain": [
       "<Figure size 432x288 with 1 Axes>"
      ]
     },
     "metadata": {
      "needs_background": "light"
     },
     "output_type": "display_data"
    }
   ],
   "source": [
    "plt.imshow(validation_data_x[0])"
   ]
  },
  {
   "cell_type": "markdown",
   "metadata": {},
   "source": [
    "## The Pipeline"
   ]
  },
  {
   "cell_type": "code",
   "execution_count": 28,
   "metadata": {
    "execution": {
     "iopub.execute_input": "2021-01-08T14:38:02.384989Z",
     "iopub.status.busy": "2021-01-08T14:38:02.384229Z",
     "iopub.status.idle": "2021-01-08T14:38:05.448429Z",
     "shell.execute_reply": "2021-01-08T14:38:05.447774Z",
     "shell.execute_reply.started": "2021-01-08T14:38:02.384889Z"
    }
   },
   "outputs": [],
   "source": [
    "import tensorflow as tf"
   ]
  },
  {
   "cell_type": "code",
   "execution_count": 97,
   "metadata": {
    "execution": {
     "iopub.execute_input": "2021-01-08T12:22:52.401184Z",
     "iopub.status.busy": "2021-01-08T12:22:52.400354Z",
     "iopub.status.idle": "2021-01-08T12:22:52.427784Z",
     "shell.execute_reply": "2021-01-08T12:22:52.425263Z",
     "shell.execute_reply.started": "2021-01-08T12:22:52.401101Z"
    }
   },
   "outputs": [],
   "source": [
    "batches = tf.data.Dataset.list_files(os.path.join(dataset_path, 'data_batch*'))"
   ]
  },
  {
   "cell_type": "code",
   "execution_count": 98,
   "metadata": {
    "execution": {
     "iopub.execute_input": "2021-01-08T12:22:53.543874Z",
     "iopub.status.busy": "2021-01-08T12:22:53.543258Z",
     "iopub.status.idle": "2021-01-08T12:22:53.571383Z",
     "shell.execute_reply": "2021-01-08T12:22:53.568277Z",
     "shell.execute_reply.started": "2021-01-08T12:22:53.543802Z"
    }
   },
   "outputs": [
    {
     "name": "stdout",
     "output_type": "stream",
     "text": [
      "b'../dataset/cifar-10-batches-py/data_batch_4'\n",
      "b'../dataset/cifar-10-batches-py/data_batch_1'\n"
     ]
    }
   ],
   "source": [
    "for b in batches.take(2):\n",
    "    print(b.numpy())"
   ]
  },
  {
   "cell_type": "code",
   "execution_count": 99,
   "metadata": {
    "execution": {
     "iopub.execute_input": "2021-01-08T12:22:55.089324Z",
     "iopub.status.busy": "2021-01-08T12:22:55.088655Z",
     "iopub.status.idle": "2021-01-08T12:22:55.102838Z",
     "shell.execute_reply": "2021-01-08T12:22:55.100667Z",
     "shell.execute_reply.started": "2021-01-08T12:22:55.089217Z"
    }
   },
   "outputs": [],
   "source": [
    "def convert(batch_path):\n",
    "    with open(batch_path.numpy(), 'rb') as batch:\n",
    "        batch_data = pickle.load(batch, encoding='bytes')\n",
    "        images = batch_data[b'data']\n",
    "        images = images.reshape((-1, 3, 32, 32))\n",
    "        images = images.transpose([0, 3, 2, 1])\n",
    "        labels = batch_data[b'labels']\n",
    "        return images, labels"
   ]
  },
  {
   "cell_type": "code",
   "execution_count": 105,
   "metadata": {
    "execution": {
     "iopub.execute_input": "2021-01-08T12:25:34.701512Z",
     "iopub.status.busy": "2021-01-08T12:25:34.700874Z",
     "iopub.status.idle": "2021-01-08T12:25:34.729482Z",
     "shell.execute_reply": "2021-01-08T12:25:34.727308Z",
     "shell.execute_reply.started": "2021-01-08T12:25:34.701438Z"
    }
   },
   "outputs": [],
   "source": [
    "batches = batches.map(\n",
    "    lambda file_path: tf.py_function(convert, [file_path], Tout=(tf.float32, tf.float32))\n",
    ")"
   ]
  },
  {
   "cell_type": "code",
   "execution_count": 106,
   "metadata": {
    "execution": {
     "iopub.execute_input": "2021-01-08T12:25:35.546625Z",
     "iopub.status.busy": "2021-01-08T12:25:35.545983Z",
     "iopub.status.idle": "2021-01-08T12:25:35.579024Z",
     "shell.execute_reply": "2021-01-08T12:25:35.576906Z",
     "shell.execute_reply.started": "2021-01-08T12:25:35.546551Z"
    }
   },
   "outputs": [],
   "source": [
    "batches = batches.flat_map(lambda x, y: tf.data.Dataset.from_tensor_slices((x, y)))"
   ]
  },
  {
   "cell_type": "code",
   "execution_count": 107,
   "metadata": {
    "execution": {
     "iopub.execute_input": "2021-01-08T12:25:36.290342Z",
     "iopub.status.busy": "2021-01-08T12:25:36.289701Z",
     "iopub.status.idle": "2021-01-08T12:25:36.299622Z",
     "shell.execute_reply": "2021-01-08T12:25:36.297454Z",
     "shell.execute_reply.started": "2021-01-08T12:25:36.290268Z"
    }
   },
   "outputs": [],
   "source": [
    "def preprocess(image, label):\n",
    "    image = (image - tf.reduce_mean(image))/255.0\n",
    "    return image, label"
   ]
  },
  {
   "cell_type": "code",
   "execution_count": 108,
   "metadata": {
    "execution": {
     "iopub.execute_input": "2021-01-08T12:25:37.093374Z",
     "iopub.status.busy": "2021-01-08T12:25:37.092746Z",
     "iopub.status.idle": "2021-01-08T12:25:37.213817Z",
     "shell.execute_reply": "2021-01-08T12:25:37.211363Z",
     "shell.execute_reply.started": "2021-01-08T12:25:37.093299Z"
    }
   },
   "outputs": [],
   "source": [
    "batches = batches.map(preprocess)"
   ]
  },
  {
   "cell_type": "code",
   "execution_count": 109,
   "metadata": {
    "execution": {
     "iopub.execute_input": "2021-01-08T12:25:38.147092Z",
     "iopub.status.busy": "2021-01-08T12:25:38.146469Z",
     "iopub.status.idle": "2021-01-08T12:25:39.104480Z",
     "shell.execute_reply": "2021-01-08T12:25:39.103757Z",
     "shell.execute_reply.started": "2021-01-08T12:25:38.147019Z"
    }
   },
   "outputs": [
    {
     "name": "stderr",
     "output_type": "stream",
     "text": [
      "Clipping input data to the valid range for imshow with RGB data ([0..1] for floats or [0..255] for integers).\n"
     ]
    },
    {
     "data": {
      "image/png": "[encoded data removed]",
      "text/plain": [
       "<Figure size 72x72 with 1 Axes>"
      ]
     },
     "metadata": {
      "needs_background": "light"
     },
     "output_type": "display_data"
    },
    {
     "name": "stderr",
     "output_type": "stream",
     "text": [
      "Clipping input data to the valid range for imshow with RGB data ([0..1] for floats or [0..255] for integers).\n"
     ]
    },
    {
     "data": {
      "image/png": "[encoded data removed]",
      "text/plain": [
       "<Figure size 72x72 with 1 Axes>"
      ]
     },
     "metadata": {
      "needs_background": "light"
     },
     "output_type": "display_data"
    },
    {
     "name": "stderr",
     "output_type": "stream",
     "text": [
      "Clipping input data to the valid range for imshow with RGB data ([0..1] for floats or [0..255] for integers).\n"
     ]
    },
    {
     "data": {
      "image/png": "[encoded data removed]",
      "text/plain": [
       "<Figure size 72x72 with 1 Axes>"
      ]
     },
     "metadata": {
      "needs_background": "light"
     },
     "output_type": "display_data"
    },
    {
     "name": "stderr",
     "output_type": "stream",
     "text": [
      "Clipping input data to the valid range for imshow with RGB data ([0..1] for floats or [0..255] for integers).\n"
     ]
    },
    {
     "data": {
      "image/png": "[encoded data removed]",
      "text/plain": [
       "<Figure size 72x72 with 1 Axes>"
      ]
     },
     "metadata": {
      "needs_background": "light"
     },
     "output_type": "display_data"
    },
    {
     "name": "stderr",
     "output_type": "stream",
     "text": [
      "Clipping input data to the valid range for imshow with RGB data ([0..1] for floats or [0..255] for integers).\n"
     ]
    },
    {
     "data": {
      "image/png": "[encoded data removed]",
      "text/plain": [
       "<Figure size 72x72 with 1 Axes>"
      ]
     },
     "metadata": {
      "needs_background": "light"
     },
     "output_type": "display_data"
    }
   ],
   "source": [
    "for t in batches.take(5):\n",
    "    plt.figure(figsize=(1,1))\n",
    "    plt.imshow(t[0].numpy())\n",
    "    plt.title(labels[int(t[1].numpy())])\n",
    "    plt.show()"
   ]
  },
  {
   "cell_type": "code",
   "execution_count": 110,
   "metadata": {
    "execution": {
     "iopub.execute_input": "2021-01-08T12:25:42.538507Z",
     "iopub.status.busy": "2021-01-08T12:25:42.537864Z",
     "iopub.status.idle": "2021-01-08T12:25:42.556668Z",
     "shell.execute_reply": "2021-01-08T12:25:42.553842Z",
     "shell.execute_reply.started": "2021-01-08T12:25:42.538432Z"
    }
   },
   "outputs": [],
   "source": [
    "train_ds = batches.take(1000).batch(32).shuffle(100)\n",
    "validation_ds = batches.skip(1000).take(100).batch(32)"
   ]
  },
  {
   "cell_type": "markdown",
   "metadata": {},
   "source": [
    "## The Model\n",
    "\n",
    "Here I am using a pretrained InceptionNet which has been trained on 'imagenet' dataset. I wont be using the final FCN layers of the inception net because they are trained to fit the 'imagenet' dataset. In place of that I will add my own dense layers so as to fit CIFAR-10 dataset. I will freeze the CNN layers of the network so that they are not trained when fitting the model for CIFAR-10.\n",
    "\n",
    "**Note: The model cannot take any input less than 75x75 in shape. So we need to resize the images from 32x32 to 75x75**\n",
    "\n",
    "The steps for using pre-trained inception net for transfer learning are:\n",
    "- Get the pre-trained InceptionNet model\n",
    "- Add the image resize layer as the input layer(this could have been done in pre-processing steps but it is done here to take advantage of the GPU)\n",
    "- Add the dense layers at the end of the InceptionNet\n",
    "- Compile the model with the required loss function, optimizer and the metrics to monitor\n",
    "- Fit the model with the data"
   ]
  },
  {
   "cell_type": "code",
   "execution_count": 48,
   "metadata": {
    "execution": {
     "iopub.execute_input": "2021-01-08T14:45:18.607661Z",
     "iopub.status.busy": "2021-01-08T14:45:18.606797Z",
     "iopub.status.idle": "2021-01-08T14:45:18.622511Z",
     "shell.execute_reply": "2021-01-08T14:45:18.620527Z",
     "shell.execute_reply.started": "2021-01-08T14:45:18.607555Z"
    }
   },
   "outputs": [],
   "source": [
    "def get_modified_inception_net():\n",
    "    inception_net = tf.keras.applications.inception_v3.InceptionV3(\n",
    "        input_shape=(75, 75, 3),\n",
    "        include_top=False,\n",
    "        weights='imagenet'\n",
    "    )\n",
    "    for layer in inception_net.layers:\n",
    "        layer.trainable = False\n",
    "    my_inception_net_model = tf.keras.Sequential([\n",
    "        tf.keras.layers.experimental.preprocessing.Resizing(75, 75),\n",
    "        inception_net,\n",
    "        tf.keras.layers.Flatten(),\n",
    "        tf.keras.layers.Dense(1024, activation='relu'),\n",
    "        tf.keras.layers.Dense(10, activation='softmax')\n",
    "    ])\n",
    "    my_inception_net_model.compile('adam', 'sparse_categorical_crossentropy', metrics=['accuracy'])\n",
    "    return my_inception_net_model"
   ]
  },
  {
   "cell_type": "code",
   "execution_count": 60,
   "metadata": {
    "execution": {
     "iopub.execute_input": "2021-01-08T15:04:55.420707Z",
     "iopub.status.busy": "2021-01-08T15:04:55.420098Z",
     "iopub.status.idle": "2021-01-08T15:04:57.964795Z",
     "shell.execute_reply": "2021-01-08T15:04:57.962920Z",
     "shell.execute_reply.started": "2021-01-08T15:04:55.420635Z"
    }
   },
   "outputs": [],
   "source": [
    "my_inception_net_model = get_modified_inception_net()"
   ]
  },
  {
   "cell_type": "markdown",
   "metadata": {},
   "source": [
    "### Callbacks\n",
    "\n",
    "I will be using certain callbacks for better resource utilization\n",
    "- Early stopping when Validation aaccuracy has stopped improving\n",
    "- Early stopping when Training accuracy has stopped improving"
   ]
  },
  {
   "cell_type": "code",
   "execution_count": 61,
   "metadata": {
    "execution": {
     "iopub.execute_input": "2021-01-08T15:04:58.415376Z",
     "iopub.status.busy": "2021-01-08T15:04:58.414729Z",
     "iopub.status.idle": "2021-01-08T15:04:58.429650Z",
     "shell.execute_reply": "2021-01-08T15:04:58.426918Z",
     "shell.execute_reply.started": "2021-01-08T15:04:58.415304Z"
    }
   },
   "outputs": [],
   "source": [
    "validation_accuracy_callback = tf.keras.callbacks.EarlyStopping(\n",
    "    monitor='val_accuracy',\n",
    "    patience=3,\n",
    ")\n",
    "training_accuracy_callback = tf.keras.callbacks.EarlyStopping(\n",
    "    monitor='accuracy',\n",
    "    patience=3,\n",
    ")"
   ]
  },
  {
   "cell_type": "code",
   "execution_count": 62,
   "metadata": {
    "execution": {
     "iopub.execute_input": "2021-01-08T15:04:59.069001Z",
     "iopub.status.busy": "2021-01-08T15:04:59.068386Z",
     "iopub.status.idle": "2021-01-08T15:06:41.210205Z",
     "shell.execute_reply": "2021-01-08T15:06:41.208371Z",
     "shell.execute_reply.started": "2021-01-08T15:04:59.068930Z"
    }
   },
   "outputs": [
    {
     "name": "stdout",
     "output_type": "stream",
     "text": [
      "Epoch 1/100\n",
      "313/313 [==============================] - 19s 47ms/step - loss: 1.8173 - accuracy: 0.3787 - val_loss: 1.3187 - val_accuracy: 0.4800\n",
      "Epoch 2/100\n",
      "313/313 [==============================] - 14s 45ms/step - loss: 1.0927 - accuracy: 0.6307 - val_loss: 1.2865 - val_accuracy: 0.5600\n",
      "Epoch 3/100\n",
      "313/313 [==============================] - 14s 44ms/step - loss: 0.7849 - accuracy: 0.7404 - val_loss: 1.3116 - val_accuracy: 0.5500\n",
      "Epoch 4/100\n",
      "313/313 [==============================] - 13s 43ms/step - loss: 0.4786 - accuracy: 0.8576 - val_loss: 1.3754 - val_accuracy: 0.5700\n",
      "Epoch 5/100\n",
      "313/313 [==============================] - 14s 45ms/step - loss: 0.2423 - accuracy: 0.9463 - val_loss: 1.5860 - val_accuracy: 0.5600\n",
      "Epoch 6/100\n",
      "313/313 [==============================] - 13s 43ms/step - loss: 0.1049 - accuracy: 0.9835 - val_loss: 1.6431 - val_accuracy: 0.5700\n",
      "Epoch 7/100\n",
      "313/313 [==============================] - 14s 44ms/step - loss: 0.0367 - accuracy: 0.9996 - val_loss: 1.7251 - val_accuracy: 0.5300\n"
     ]
    }
   ],
   "source": [
    "history = my_inception_net_model.fit(\n",
    "    train_data_x,\n",
    "    train_data_y,\n",
    "    batch_size=32,\n",
    "    validation_data=(validation_data_x[:100], validation_data_y[:100]),\n",
    "    epochs=100,\n",
    "    callbacks=[validation_accuracy_callback, training_accuracy_callback]\n",
    ")"
   ]
  },
  {
   "cell_type": "code",
   "execution_count": 71,
   "metadata": {
    "execution": {
     "iopub.execute_input": "2021-01-08T15:10:53.807315Z",
     "iopub.status.busy": "2021-01-08T15:10:53.806654Z",
     "iopub.status.idle": "2021-01-08T15:10:54.112139Z",
     "shell.execute_reply": "2021-01-08T15:10:54.111458Z",
     "shell.execute_reply.started": "2021-01-08T15:10:53.807238Z"
    }
   },
   "outputs": [
    {
     "data": {
      "text/plain": [
       "[<matplotlib.lines.Line2D at 0x7f25f7bb90d0>]"
      ]
     },
     "execution_count": 71,
     "metadata": {},
     "output_type": "execute_result"
    },
    {
     "data": {
      "image/png": "[encoded data removed]",
      "text/plain": [
       "<Figure size 432x288 with 1 Axes>"
      ]
     },
     "metadata": {
      "needs_background": "light"
     },
     "output_type": "display_data"
    }
   ],
   "source": [
    "plt.plot(history.history['accuracy'])\n",
    "plt.plot(history.history['val_accuracy'])"
   ]
  },
  {
   "cell_type": "markdown",
   "metadata": {},
   "source": [
    "## Recording the Result\n",
    "\n",
    "Here I am dumping the history data for future references"
   ]
  },
  {
   "cell_type": "code",
   "execution_count": 75,
   "metadata": {
    "execution": {
     "iopub.execute_input": "2021-01-08T15:12:42.602349Z",
     "iopub.status.busy": "2021-01-08T15:12:42.601690Z",
     "iopub.status.idle": "2021-01-08T15:12:42.612966Z",
     "shell.execute_reply": "2021-01-08T15:12:42.610303Z",
     "shell.execute_reply.started": "2021-01-08T15:12:42.602269Z"
    }
   },
   "outputs": [],
   "source": [
    "import json\n",
    "with open('01_simple.json', 'w') as f:\n",
    "    json.dump(history.history, f)"
   ]
  },
  {
   "cell_type": "code",
   "execution_count": 144,
   "metadata": {
    "execution": {
     "iopub.execute_input": "2021-01-08T14:06:51.213921Z",
     "iopub.status.busy": "2021-01-08T14:06:51.213328Z",
     "iopub.status.idle": "2021-01-08T14:06:51.373880Z",
     "shell.execute_reply": "2021-01-08T14:06:51.368906Z",
     "shell.execute_reply.started": "2021-01-08T14:06:51.213852Z"
    }
   },
   "outputs": [
    {
     "name": "stdout",
     "output_type": "stream",
     "text": [
      "Epoch 1/5\n"
     ]
    },
    {
     "ename": "ValueError",
     "evalue": "in user code:\n\n    /home/sbjr/my_bin/apps/miniconda3/envs/tf-gpu-2.3/lib/python3.8/site-packages/tensorflow/python/keras/engine/training.py:805 train_function  *\n        return step_function(self, iterator)\n    /home/sbjr/my_bin/apps/miniconda3/envs/tf-gpu-2.3/lib/python3.8/site-packages/tensorflow/python/keras/engine/training.py:795 step_function  **\n        outputs = model.distribute_strategy.run(run_step, args=(data,))\n    /home/sbjr/my_bin/apps/miniconda3/envs/tf-gpu-2.3/lib/python3.8/site-packages/tensorflow/python/distribute/distribute_lib.py:1259 run\n        return self._extended.call_for_each_replica(fn, args=args, kwargs=kwargs)\n    /home/sbjr/my_bin/apps/miniconda3/envs/tf-gpu-2.3/lib/python3.8/site-packages/tensorflow/python/distribute/distribute_lib.py:2730 call_for_each_replica\n        return self._call_for_each_replica(fn, args, kwargs)\n    /home/sbjr/my_bin/apps/miniconda3/envs/tf-gpu-2.3/lib/python3.8/site-packages/tensorflow/python/distribute/distribute_lib.py:3417 _call_for_each_replica\n        return fn(*args, **kwargs)\n    /home/sbjr/my_bin/apps/miniconda3/envs/tf-gpu-2.3/lib/python3.8/site-packages/tensorflow/python/keras/engine/training.py:788 run_step  **\n        outputs = model.train_step(data)\n    /home/sbjr/my_bin/apps/miniconda3/envs/tf-gpu-2.3/lib/python3.8/site-packages/tensorflow/python/keras/engine/training.py:754 train_step\n        y_pred = self(x, training=True)\n    /home/sbjr/my_bin/apps/miniconda3/envs/tf-gpu-2.3/lib/python3.8/site-packages/tensorflow/python/keras/engine/base_layer.py:1012 __call__\n        outputs = call_fn(inputs, *args, **kwargs)\n    /home/sbjr/my_bin/apps/miniconda3/envs/tf-gpu-2.3/lib/python3.8/site-packages/tensorflow/python/keras/engine/sequential.py:370 call\n        self._build_graph_network_for_inferred_shape(inputs.shape, inputs.dtype)\n    /home/sbjr/my_bin/apps/miniconda3/envs/tf-gpu-2.3/lib/python3.8/site-packages/tensorflow/python/training/tracking/base.py:517 _method_wrapper\n        result = method(self, *args, **kwargs)\n    /home/sbjr/my_bin/apps/miniconda3/envs/tf-gpu-2.3/lib/python3.8/site-packages/tensorflow/python/keras/engine/sequential.py:276 _build_graph_network_for_inferred_shape\n        input_shape = tuple(input_shape)\n    /home/sbjr/my_bin/apps/miniconda3/envs/tf-gpu-2.3/lib/python3.8/site-packages/tensorflow/python/framework/tensor_shape.py:861 __iter__\n        raise ValueError(\"Cannot iterate over a shape with unknown rank.\")\n\n    ValueError: Cannot iterate over a shape with unknown rank.\n",
     "output_type": "error",
     "traceback": [
      "\u001b[0;31m---------------------------------------------------------------------------\u001b[0m",
      "\u001b[0;31mValueError\u001b[0m                                Traceback (most recent call last)",
      "\u001b[0;32m<ipython-input-144-1207acc4f857>\u001b[0m in \u001b[0;36m<module>\u001b[0;34m\u001b[0m\n\u001b[0;32m----> 1\u001b[0;31m \u001b[0mmy_inception_net_model\u001b[0m\u001b[0;34m.\u001b[0m\u001b[0mfit\u001b[0m\u001b[0;34m(\u001b[0m\u001b[0mtrain_ds\u001b[0m\u001b[0;34m,\u001b[0m \u001b[0mvalidation_data\u001b[0m\u001b[0;34m=\u001b[0m\u001b[0mvalidation_ds\u001b[0m\u001b[0;34m,\u001b[0m \u001b[0msteps_per_epoch\u001b[0m\u001b[0;34m=\u001b[0m\u001b[0;36m32\u001b[0m\u001b[0;34m,\u001b[0m \u001b[0mepochs\u001b[0m\u001b[0;34m=\u001b[0m\u001b[0;36m5\u001b[0m\u001b[0;34m,\u001b[0m \u001b[0mvalidation_steps\u001b[0m\u001b[0;34m=\u001b[0m\u001b[0;36m4\u001b[0m\u001b[0;34m)\u001b[0m\u001b[0;34m\u001b[0m\u001b[0;34m\u001b[0m\u001b[0m\n\u001b[0m",
      "\u001b[0;32m~/my_bin/apps/miniconda3/envs/tf-gpu-2.3/lib/python3.8/site-packages/tensorflow/python/keras/engine/training.py\u001b[0m in \u001b[0;36mfit\u001b[0;34m(self, x, y, batch_size, epochs, verbose, callbacks, validation_split, validation_data, shuffle, class_weight, sample_weight, initial_epoch, steps_per_epoch, validation_steps, validation_batch_size, validation_freq, max_queue_size, workers, use_multiprocessing)\u001b[0m\n\u001b[1;32m   1098\u001b[0m                 _r=1):\n\u001b[1;32m   1099\u001b[0m               \u001b[0mcallbacks\u001b[0m\u001b[0;34m.\u001b[0m\u001b[0mon_train_batch_begin\u001b[0m\u001b[0;34m(\u001b[0m\u001b[0mstep\u001b[0m\u001b[0;34m)\u001b[0m\u001b[0;34m\u001b[0m\u001b[0;34m\u001b[0m\u001b[0m\n\u001b[0;32m-> 1100\u001b[0;31m               \u001b[0mtmp_logs\u001b[0m \u001b[0;34m=\u001b[0m \u001b[0mself\u001b[0m\u001b[0;34m.\u001b[0m\u001b[0mtrain_function\u001b[0m\u001b[0;34m(\u001b[0m\u001b[0miterator\u001b[0m\u001b[0;34m)\u001b[0m\u001b[0;34m\u001b[0m\u001b[0;34m\u001b[0m\u001b[0m\n\u001b[0m\u001b[1;32m   1101\u001b[0m               \u001b[0;32mif\u001b[0m \u001b[0mdata_handler\u001b[0m\u001b[0;34m.\u001b[0m\u001b[0mshould_sync\u001b[0m\u001b[0;34m:\u001b[0m\u001b[0;34m\u001b[0m\u001b[0;34m\u001b[0m\u001b[0m\n\u001b[1;32m   1102\u001b[0m                 \u001b[0mcontext\u001b[0m\u001b[0;34m.\u001b[0m\u001b[0masync_wait\u001b[0m\u001b[0;34m(\u001b[0m\u001b[0;34m)\u001b[0m\u001b[0;34m\u001b[0m\u001b[0;34m\u001b[0m\u001b[0m\n",
      "\u001b[0;32m~/my_bin/apps/miniconda3/envs/tf-gpu-2.3/lib/python3.8/site-packages/tensorflow/python/eager/def_function.py\u001b[0m in \u001b[0;36m__call__\u001b[0;34m(self, *args, **kwds)\u001b[0m\n\u001b[1;32m    826\u001b[0m     \u001b[0mtracing_count\u001b[0m \u001b[0;34m=\u001b[0m \u001b[0mself\u001b[0m\u001b[0;34m.\u001b[0m\u001b[0mexperimental_get_tracing_count\u001b[0m\u001b[0;34m(\u001b[0m\u001b[0;34m)\u001b[0m\u001b[0;34m\u001b[0m\u001b[0;34m\u001b[0m\u001b[0m\n\u001b[1;32m    827\u001b[0m     \u001b[0;32mwith\u001b[0m \u001b[0mtrace\u001b[0m\u001b[0;34m.\u001b[0m\u001b[0mTrace\u001b[0m\u001b[0;34m(\u001b[0m\u001b[0mself\u001b[0m\u001b[0;34m.\u001b[0m\u001b[0m_name\u001b[0m\u001b[0;34m)\u001b[0m \u001b[0;32mas\u001b[0m \u001b[0mtm\u001b[0m\u001b[0;34m:\u001b[0m\u001b[0;34m\u001b[0m\u001b[0;34m\u001b[0m\u001b[0m\n\u001b[0;32m--> 828\u001b[0;31m       \u001b[0mresult\u001b[0m \u001b[0;34m=\u001b[0m \u001b[0mself\u001b[0m\u001b[0;34m.\u001b[0m\u001b[0m_call\u001b[0m\u001b[0;34m(\u001b[0m\u001b[0;34m*\u001b[0m\u001b[0margs\u001b[0m\u001b[0;34m,\u001b[0m \u001b[0;34m**\u001b[0m\u001b[0mkwds\u001b[0m\u001b[0;34m)\u001b[0m\u001b[0;34m\u001b[0m\u001b[0;34m\u001b[0m\u001b[0m\n\u001b[0m\u001b[1;32m    829\u001b[0m       \u001b[0mcompiler\u001b[0m \u001b[0;34m=\u001b[0m \u001b[0;34m\"xla\"\u001b[0m \u001b[0;32mif\u001b[0m \u001b[0mself\u001b[0m\u001b[0;34m.\u001b[0m\u001b[0m_experimental_compile\u001b[0m \u001b[0;32melse\u001b[0m \u001b[0;34m\"nonXla\"\u001b[0m\u001b[0;34m\u001b[0m\u001b[0;34m\u001b[0m\u001b[0m\n\u001b[1;32m    830\u001b[0m       \u001b[0mnew_tracing_count\u001b[0m \u001b[0;34m=\u001b[0m \u001b[0mself\u001b[0m\u001b[0;34m.\u001b[0m\u001b[0mexperimental_get_tracing_count\u001b[0m\u001b[0;34m(\u001b[0m\u001b[0;34m)\u001b[0m\u001b[0;34m\u001b[0m\u001b[0;34m\u001b[0m\u001b[0m\n",
      "\u001b[0;32m~/my_bin/apps/miniconda3/envs/tf-gpu-2.3/lib/python3.8/site-packages/tensorflow/python/eager/def_function.py\u001b[0m in \u001b[0;36m_call\u001b[0;34m(self, *args, **kwds)\u001b[0m\n\u001b[1;32m    860\u001b[0m       \u001b[0;31m# In this case we have not created variables on the first call. So we can\u001b[0m\u001b[0;34m\u001b[0m\u001b[0;34m\u001b[0m\u001b[0;34m\u001b[0m\u001b[0m\n\u001b[1;32m    861\u001b[0m       \u001b[0;31m# run the first trace but we should fail if variables are created.\u001b[0m\u001b[0;34m\u001b[0m\u001b[0;34m\u001b[0m\u001b[0;34m\u001b[0m\u001b[0m\n\u001b[0;32m--> 862\u001b[0;31m       \u001b[0mresults\u001b[0m \u001b[0;34m=\u001b[0m \u001b[0mself\u001b[0m\u001b[0;34m.\u001b[0m\u001b[0m_stateful_fn\u001b[0m\u001b[0;34m(\u001b[0m\u001b[0;34m*\u001b[0m\u001b[0margs\u001b[0m\u001b[0;34m,\u001b[0m \u001b[0;34m**\u001b[0m\u001b[0mkwds\u001b[0m\u001b[0;34m)\u001b[0m\u001b[0;34m\u001b[0m\u001b[0;34m\u001b[0m\u001b[0m\n\u001b[0m\u001b[1;32m    863\u001b[0m       \u001b[0;32mif\u001b[0m \u001b[0mself\u001b[0m\u001b[0;34m.\u001b[0m\u001b[0m_created_variables\u001b[0m\u001b[0;34m:\u001b[0m\u001b[0;34m\u001b[0m\u001b[0;34m\u001b[0m\u001b[0m\n\u001b[1;32m    864\u001b[0m         raise ValueError(\"Creating variables on a non-first call to a function\"\n",
      "\u001b[0;32m~/my_bin/apps/miniconda3/envs/tf-gpu-2.3/lib/python3.8/site-packages/tensorflow/python/eager/function.py\u001b[0m in \u001b[0;36m__call__\u001b[0;34m(self, *args, **kwargs)\u001b[0m\n\u001b[1;32m   2939\u001b[0m     \u001b[0;32mwith\u001b[0m \u001b[0mself\u001b[0m\u001b[0;34m.\u001b[0m\u001b[0m_lock\u001b[0m\u001b[0;34m:\u001b[0m\u001b[0;34m\u001b[0m\u001b[0;34m\u001b[0m\u001b[0m\n\u001b[1;32m   2940\u001b[0m       (graph_function,\n\u001b[0;32m-> 2941\u001b[0;31m        filtered_flat_args) = self._maybe_define_function(args, kwargs)\n\u001b[0m\u001b[1;32m   2942\u001b[0m     return graph_function._call_flat(\n\u001b[1;32m   2943\u001b[0m         filtered_flat_args, captured_inputs=graph_function.captured_inputs)  # pylint: disable=protected-access\n",
      "\u001b[0;32m~/my_bin/apps/miniconda3/envs/tf-gpu-2.3/lib/python3.8/site-packages/tensorflow/python/eager/function.py\u001b[0m in \u001b[0;36m_maybe_define_function\u001b[0;34m(self, args, kwargs)\u001b[0m\n\u001b[1;32m   3355\u001b[0m               \u001b[0mself\u001b[0m\u001b[0;34m.\u001b[0m\u001b[0minput_signature\u001b[0m \u001b[0;32mis\u001b[0m \u001b[0;32mNone\u001b[0m \u001b[0;32mand\u001b[0m\u001b[0;34m\u001b[0m\u001b[0;34m\u001b[0m\u001b[0m\n\u001b[1;32m   3356\u001b[0m               call_context_key in self._function_cache.missed):\n\u001b[0;32m-> 3357\u001b[0;31m             return self._define_function_with_shape_relaxation(\n\u001b[0m\u001b[1;32m   3358\u001b[0m                 args, kwargs, flat_args, filtered_flat_args, cache_key_context)\n\u001b[1;32m   3359\u001b[0m \u001b[0;34m\u001b[0m\u001b[0m\n",
      "\u001b[0;32m~/my_bin/apps/miniconda3/envs/tf-gpu-2.3/lib/python3.8/site-packages/tensorflow/python/eager/function.py\u001b[0m in \u001b[0;36m_define_function_with_shape_relaxation\u001b[0;34m(self, args, kwargs, flat_args, filtered_flat_args, cache_key_context)\u001b[0m\n\u001b[1;32m   3277\u001b[0m           expand_composites=True)\n\u001b[1;32m   3278\u001b[0m \u001b[0;34m\u001b[0m\u001b[0m\n\u001b[0;32m-> 3279\u001b[0;31m     graph_function = self._create_graph_function(\n\u001b[0m\u001b[1;32m   3280\u001b[0m         args, kwargs, override_flat_arg_shapes=relaxed_arg_shapes)\n\u001b[1;32m   3281\u001b[0m     \u001b[0mself\u001b[0m\u001b[0;34m.\u001b[0m\u001b[0m_function_cache\u001b[0m\u001b[0;34m.\u001b[0m\u001b[0marg_relaxed\u001b[0m\u001b[0;34m[\u001b[0m\u001b[0mrank_only_cache_key\u001b[0m\u001b[0;34m]\u001b[0m \u001b[0;34m=\u001b[0m \u001b[0mgraph_function\u001b[0m\u001b[0;34m\u001b[0m\u001b[0;34m\u001b[0m\u001b[0m\n",
      "\u001b[0;32m~/my_bin/apps/miniconda3/envs/tf-gpu-2.3/lib/python3.8/site-packages/tensorflow/python/eager/function.py\u001b[0m in \u001b[0;36m_create_graph_function\u001b[0;34m(self, args, kwargs, override_flat_arg_shapes)\u001b[0m\n\u001b[1;32m   3194\u001b[0m     \u001b[0marg_names\u001b[0m \u001b[0;34m=\u001b[0m \u001b[0mbase_arg_names\u001b[0m \u001b[0;34m+\u001b[0m \u001b[0mmissing_arg_names\u001b[0m\u001b[0;34m\u001b[0m\u001b[0;34m\u001b[0m\u001b[0m\n\u001b[1;32m   3195\u001b[0m     graph_function = ConcreteFunction(\n\u001b[0;32m-> 3196\u001b[0;31m         func_graph_module.func_graph_from_py_func(\n\u001b[0m\u001b[1;32m   3197\u001b[0m             \u001b[0mself\u001b[0m\u001b[0;34m.\u001b[0m\u001b[0m_name\u001b[0m\u001b[0;34m,\u001b[0m\u001b[0;34m\u001b[0m\u001b[0;34m\u001b[0m\u001b[0m\n\u001b[1;32m   3198\u001b[0m             \u001b[0mself\u001b[0m\u001b[0;34m.\u001b[0m\u001b[0m_python_function\u001b[0m\u001b[0;34m,\u001b[0m\u001b[0;34m\u001b[0m\u001b[0;34m\u001b[0m\u001b[0m\n",
      "\u001b[0;32m~/my_bin/apps/miniconda3/envs/tf-gpu-2.3/lib/python3.8/site-packages/tensorflow/python/framework/func_graph.py\u001b[0m in \u001b[0;36mfunc_graph_from_py_func\u001b[0;34m(name, python_func, args, kwargs, signature, func_graph, autograph, autograph_options, add_control_dependencies, arg_names, op_return_value, collections, capture_by_value, override_flat_arg_shapes)\u001b[0m\n\u001b[1;32m    988\u001b[0m         \u001b[0m_\u001b[0m\u001b[0;34m,\u001b[0m \u001b[0moriginal_func\u001b[0m \u001b[0;34m=\u001b[0m \u001b[0mtf_decorator\u001b[0m\u001b[0;34m.\u001b[0m\u001b[0munwrap\u001b[0m\u001b[0;34m(\u001b[0m\u001b[0mpython_func\u001b[0m\u001b[0;34m)\u001b[0m\u001b[0;34m\u001b[0m\u001b[0;34m\u001b[0m\u001b[0m\n\u001b[1;32m    989\u001b[0m \u001b[0;34m\u001b[0m\u001b[0m\n\u001b[0;32m--> 990\u001b[0;31m       \u001b[0mfunc_outputs\u001b[0m \u001b[0;34m=\u001b[0m \u001b[0mpython_func\u001b[0m\u001b[0;34m(\u001b[0m\u001b[0;34m*\u001b[0m\u001b[0mfunc_args\u001b[0m\u001b[0;34m,\u001b[0m \u001b[0;34m**\u001b[0m\u001b[0mfunc_kwargs\u001b[0m\u001b[0;34m)\u001b[0m\u001b[0;34m\u001b[0m\u001b[0;34m\u001b[0m\u001b[0m\n\u001b[0m\u001b[1;32m    991\u001b[0m \u001b[0;34m\u001b[0m\u001b[0m\n\u001b[1;32m    992\u001b[0m       \u001b[0;31m# invariant: `func_outputs` contains only Tensors, CompositeTensors,\u001b[0m\u001b[0;34m\u001b[0m\u001b[0;34m\u001b[0m\u001b[0;34m\u001b[0m\u001b[0m\n",
      "\u001b[0;32m~/my_bin/apps/miniconda3/envs/tf-gpu-2.3/lib/python3.8/site-packages/tensorflow/python/eager/def_function.py\u001b[0m in \u001b[0;36mwrapped_fn\u001b[0;34m(*args, **kwds)\u001b[0m\n\u001b[1;32m    632\u001b[0m             \u001b[0mxla_context\u001b[0m\u001b[0;34m.\u001b[0m\u001b[0mExit\u001b[0m\u001b[0;34m(\u001b[0m\u001b[0;34m)\u001b[0m\u001b[0;34m\u001b[0m\u001b[0;34m\u001b[0m\u001b[0m\n\u001b[1;32m    633\u001b[0m         \u001b[0;32melse\u001b[0m\u001b[0;34m:\u001b[0m\u001b[0;34m\u001b[0m\u001b[0;34m\u001b[0m\u001b[0m\n\u001b[0;32m--> 634\u001b[0;31m           \u001b[0mout\u001b[0m \u001b[0;34m=\u001b[0m \u001b[0mweak_wrapped_fn\u001b[0m\u001b[0;34m(\u001b[0m\u001b[0;34m)\u001b[0m\u001b[0;34m.\u001b[0m\u001b[0m__wrapped__\u001b[0m\u001b[0;34m(\u001b[0m\u001b[0;34m*\u001b[0m\u001b[0margs\u001b[0m\u001b[0;34m,\u001b[0m \u001b[0;34m**\u001b[0m\u001b[0mkwds\u001b[0m\u001b[0;34m)\u001b[0m\u001b[0;34m\u001b[0m\u001b[0;34m\u001b[0m\u001b[0m\n\u001b[0m\u001b[1;32m    635\u001b[0m         \u001b[0;32mreturn\u001b[0m \u001b[0mout\u001b[0m\u001b[0;34m\u001b[0m\u001b[0;34m\u001b[0m\u001b[0m\n\u001b[1;32m    636\u001b[0m \u001b[0;34m\u001b[0m\u001b[0m\n",
      "\u001b[0;32m~/my_bin/apps/miniconda3/envs/tf-gpu-2.3/lib/python3.8/site-packages/tensorflow/python/framework/func_graph.py\u001b[0m in \u001b[0;36mwrapper\u001b[0;34m(*args, **kwargs)\u001b[0m\n\u001b[1;32m    975\u001b[0m           \u001b[0;32mexcept\u001b[0m \u001b[0mException\u001b[0m \u001b[0;32mas\u001b[0m \u001b[0me\u001b[0m\u001b[0;34m:\u001b[0m  \u001b[0;31m# pylint:disable=broad-except\u001b[0m\u001b[0;34m\u001b[0m\u001b[0;34m\u001b[0m\u001b[0m\n\u001b[1;32m    976\u001b[0m             \u001b[0;32mif\u001b[0m \u001b[0mhasattr\u001b[0m\u001b[0;34m(\u001b[0m\u001b[0me\u001b[0m\u001b[0;34m,\u001b[0m \u001b[0;34m\"ag_error_metadata\"\u001b[0m\u001b[0;34m)\u001b[0m\u001b[0;34m:\u001b[0m\u001b[0;34m\u001b[0m\u001b[0;34m\u001b[0m\u001b[0m\n\u001b[0;32m--> 977\u001b[0;31m               \u001b[0;32mraise\u001b[0m \u001b[0me\u001b[0m\u001b[0;34m.\u001b[0m\u001b[0mag_error_metadata\u001b[0m\u001b[0;34m.\u001b[0m\u001b[0mto_exception\u001b[0m\u001b[0;34m(\u001b[0m\u001b[0me\u001b[0m\u001b[0;34m)\u001b[0m\u001b[0;34m\u001b[0m\u001b[0;34m\u001b[0m\u001b[0m\n\u001b[0m\u001b[1;32m    978\u001b[0m             \u001b[0;32melse\u001b[0m\u001b[0;34m:\u001b[0m\u001b[0;34m\u001b[0m\u001b[0;34m\u001b[0m\u001b[0m\n\u001b[1;32m    979\u001b[0m               \u001b[0;32mraise\u001b[0m\u001b[0;34m\u001b[0m\u001b[0;34m\u001b[0m\u001b[0m\n",
      "\u001b[0;31mValueError\u001b[0m: in user code:\n\n    /home/sbjr/my_bin/apps/miniconda3/envs/tf-gpu-2.3/lib/python3.8/site-packages/tensorflow/python/keras/engine/training.py:805 train_function  *\n        return step_function(self, iterator)\n    /home/sbjr/my_bin/apps/miniconda3/envs/tf-gpu-2.3/lib/python3.8/site-packages/tensorflow/python/keras/engine/training.py:795 step_function  **\n        outputs = model.distribute_strategy.run(run_step, args=(data,))\n    /home/sbjr/my_bin/apps/miniconda3/envs/tf-gpu-2.3/lib/python3.8/site-packages/tensorflow/python/distribute/distribute_lib.py:1259 run\n        return self._extended.call_for_each_replica(fn, args=args, kwargs=kwargs)\n    /home/sbjr/my_bin/apps/miniconda3/envs/tf-gpu-2.3/lib/python3.8/site-packages/tensorflow/python/distribute/distribute_lib.py:2730 call_for_each_replica\n        return self._call_for_each_replica(fn, args, kwargs)\n    /home/sbjr/my_bin/apps/miniconda3/envs/tf-gpu-2.3/lib/python3.8/site-packages/tensorflow/python/distribute/distribute_lib.py:3417 _call_for_each_replica\n        return fn(*args, **kwargs)\n    /home/sbjr/my_bin/apps/miniconda3/envs/tf-gpu-2.3/lib/python3.8/site-packages/tensorflow/python/keras/engine/training.py:788 run_step  **\n        outputs = model.train_step(data)\n    /home/sbjr/my_bin/apps/miniconda3/envs/tf-gpu-2.3/lib/python3.8/site-packages/tensorflow/python/keras/engine/training.py:754 train_step\n        y_pred = self(x, training=True)\n    /home/sbjr/my_bin/apps/miniconda3/envs/tf-gpu-2.3/lib/python3.8/site-packages/tensorflow/python/keras/engine/base_layer.py:1012 __call__\n        outputs = call_fn(inputs, *args, **kwargs)\n    /home/sbjr/my_bin/apps/miniconda3/envs/tf-gpu-2.3/lib/python3.8/site-packages/tensorflow/python/keras/engine/sequential.py:370 call\n        self._build_graph_network_for_inferred_shape(inputs.shape, inputs.dtype)\n    /home/sbjr/my_bin/apps/miniconda3/envs/tf-gpu-2.3/lib/python3.8/site-packages/tensorflow/python/training/tracking/base.py:517 _method_wrapper\n        result = method(self, *args, **kwargs)\n    /home/sbjr/my_bin/apps/miniconda3/envs/tf-gpu-2.3/lib/python3.8/site-packages/tensorflow/python/keras/engine/sequential.py:276 _build_graph_network_for_inferred_shape\n        input_shape = tuple(input_shape)\n    /home/sbjr/my_bin/apps/miniconda3/envs/tf-gpu-2.3/lib/python3.8/site-packages/tensorflow/python/framework/tensor_shape.py:861 __iter__\n        raise ValueError(\"Cannot iterate over a shape with unknown rank.\")\n\n    ValueError: Cannot iterate over a shape with unknown rank.\n"
     ]
    }
   ],
   "source": [
    "my_inception_net_model.fit(train_ds, validation_data=validation_ds, steps_per_epoch=32, epochs=5, validation_steps=4)"
   ]
  },
  {
   "cell_type": "code",
   "execution_count": null,
   "metadata": {},
   "outputs": [],
   "source": []
  }
 ],
 "metadata": {
  "kernelspec": {
   "display_name": "tf-gpu-2.3",
   "language": "python",
   "name": "tf-gpu-2.3"
  },
  "language_info": {
   "codemirror_mode": {
    "name": "ipython",
    "version": 3
   },
   "file_extension": ".py",
   "mimetype": "text/x-python",
   "name": "python",
   "nbconvert_exporter": "python",
   "pygments_lexer": "ipython3",
   "version": "3.8.3"
  },
  "widgets": {
   "application/vnd.jupyter.widget-state+json": {
    "state": {},
    "version_major": 2,
    "version_minor": 0
   }
  }
 },
 "nbformat": 4,
 "nbformat_minor": 4
}
