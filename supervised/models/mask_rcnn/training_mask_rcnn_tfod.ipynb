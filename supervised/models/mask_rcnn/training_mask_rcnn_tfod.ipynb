{
 "cells": [
  {
   "cell_type": "markdown",
   "metadata": {},
   "source": [
    "# Training MaskRCNN using TFOD"
   ]
  },
  {
   "cell_type": "code",
   "execution_count": 1,
   "metadata": {
    "execution": {
     "iopub.execute_input": "2021-01-22T11:59:45.683358Z",
     "iopub.status.busy": "2021-01-22T11:59:45.682726Z",
     "iopub.status.idle": "2021-01-22T11:59:53.594947Z",
     "shell.execute_reply": "2021-01-22T11:59:53.592713Z",
     "shell.execute_reply.started": "2021-01-22T11:59:45.683270Z"
    }
   },
   "outputs": [],
   "source": [
    "import tensorflow as tf\n",
    "import numpy as np\n",
    "import os\n",
    "import matplotlib.pyplot as plt\n",
    "from object_detection.utils import label_map_util\n",
    "import PIL.Image\n",
    "import io"
   ]
  },
  {
   "cell_type": "code",
   "execution_count": 2,
   "metadata": {
    "execution": {
     "iopub.execute_input": "2021-01-22T11:59:54.164721Z",
     "iopub.status.busy": "2021-01-22T11:59:54.164072Z",
     "iopub.status.idle": "2021-01-22T11:59:54.175187Z",
     "shell.execute_reply": "2021-01-22T11:59:54.172908Z",
     "shell.execute_reply.started": "2021-01-22T11:59:54.164645Z"
    }
   },
   "outputs": [],
   "source": [
    "label_map = label_map_util.load_labelmap('labelmap.pbtxt')\n",
    "label_map_dict = label_map_util.get_label_map_dict(label_map)"
   ]
  },
  {
   "cell_type": "code",
   "execution_count": 3,
   "metadata": {
    "execution": {
     "iopub.execute_input": "2021-01-22T11:59:56.401063Z",
     "iopub.status.busy": "2021-01-22T11:59:56.400417Z",
     "iopub.status.idle": "2021-01-22T11:59:56.408899Z",
     "shell.execute_reply": "2021-01-22T11:59:56.406483Z",
     "shell.execute_reply.started": "2021-01-22T11:59:56.400990Z"
    }
   },
   "outputs": [],
   "source": [
    "model_name = 'mask_rcnn_inception_resnet_v2_1024x1024_coco17_gpu-8.tar.gz'\n",
    "model_url = 'download.tensorflow.org/models/object_detection/tf2/20200711/mask_rcnn_inception_resnet_v2_1024x1024_coco17_gpu-8.tar.gz'"
   ]
  },
  {
   "cell_type": "code",
   "execution_count": 10,
   "metadata": {
    "execution": {
     "iopub.execute_input": "2021-01-20T17:47:34.273484Z",
     "iopub.status.busy": "2021-01-20T17:47:34.272858Z",
     "iopub.status.idle": "2021-01-20T17:48:40.706571Z",
     "shell.execute_reply": "2021-01-20T17:48:40.704048Z",
     "shell.execute_reply.started": "2021-01-20T17:47:34.273409Z"
    }
   },
   "outputs": [
    {
     "name": "stdout",
     "output_type": "stream",
     "text": [
      "  % Total    % Received % Xferd  Average Speed   Time    Time     Time  Current\n",
      "                                 Dload  Upload   Total   Spent    Left  Speed\n",
      "100  462M  100  462M    0     0  7819k      0  0:01:00  0:01:00 --:--:-- 8416k62M   67  311M    0     0  7671k      0  0:01:01  0:00:41  0:00:20 8524k\n",
      "mask_rcnn_inception_resnet_v2_1024x1024_coco17_gpu-8/\n",
      "mask_rcnn_inception_resnet_v2_1024x1024_coco17_gpu-8/checkpoint/\n",
      "mask_rcnn_inception_resnet_v2_1024x1024_coco17_gpu-8/checkpoint/ckpt-0.data-00000-of-00001\n",
      "mask_rcnn_inception_resnet_v2_1024x1024_coco17_gpu-8/checkpoint/checkpoint\n",
      "mask_rcnn_inception_resnet_v2_1024x1024_coco17_gpu-8/checkpoint/ckpt-0.index\n",
      "mask_rcnn_inception_resnet_v2_1024x1024_coco17_gpu-8/pipeline.config\n",
      "mask_rcnn_inception_resnet_v2_1024x1024_coco17_gpu-8/saved_model/\n",
      "mask_rcnn_inception_resnet_v2_1024x1024_coco17_gpu-8/saved_model/saved_model.pb\n",
      "mask_rcnn_inception_resnet_v2_1024x1024_coco17_gpu-8/saved_model/assets/\n",
      "mask_rcnn_inception_resnet_v2_1024x1024_coco17_gpu-8/saved_model/variables/\n",
      "mask_rcnn_inception_resnet_v2_1024x1024_coco17_gpu-8/saved_model/variables/variables.data-00000-of-00001\n",
      "mask_rcnn_inception_resnet_v2_1024x1024_coco17_gpu-8/saved_model/variables/variables.index\n"
     ]
    }
   ],
   "source": [
    "!curl -L {model_url} > {model_name}; tar -xvf {model_name}; rm {model_name};"
   ]
  },
  {
   "cell_type": "code",
   "execution_count": 4,
   "metadata": {
    "execution": {
     "iopub.execute_input": "2021-01-22T11:59:59.530945Z",
     "iopub.status.busy": "2021-01-22T11:59:59.530326Z",
     "iopub.status.idle": "2021-01-22T11:59:59.539068Z",
     "shell.execute_reply": "2021-01-22T11:59:59.537043Z",
     "shell.execute_reply.started": "2021-01-22T11:59:59.530872Z"
    }
   },
   "outputs": [],
   "source": [
    "model_dir = r'mask_rcnn_inception_resnet_v2_1024x1024_coco17_gpu-8'"
   ]
  },
  {
   "cell_type": "code",
   "execution_count": 25,
   "metadata": {
    "execution": {
     "iopub.execute_input": "2021-01-20T18:26:37.424603Z",
     "iopub.status.busy": "2021-01-20T18:26:37.423881Z",
     "iopub.status.idle": "2021-01-20T18:26:37.438255Z",
     "shell.execute_reply": "2021-01-20T18:26:37.436150Z",
     "shell.execute_reply.started": "2021-01-20T18:26:37.424514Z"
    }
   },
   "outputs": [],
   "source": [
    "with open('mask_rcnn_inception_resnet_v2_1024x1024_coco17_gpu-8.config', 'w') as f:\n",
    "    f.write(r'''# Mask R-CNN with Inception Resnet v2 (no atrous)\n",
    "# Sync-trained on COCO (with 8 GPUs) with batch size 16 (1024x1024 resolution)\n",
    "# Initialized from Imagenet classification checkpoint\n",
    "#\n",
    "# Train on GPU-8\n",
    "#\n",
    "# Achieves 40.4 box mAP and 35.5 mask mAP on COCO17 val\n",
    "\n",
    "model {\n",
    "  faster_rcnn {\n",
    "    number_of_stages: 3\n",
    "    num_classes: 2\n",
    "    image_resizer {\n",
    "      fixed_shape_resizer {\n",
    "        height: 500\n",
    "        width: 500\n",
    "      }\n",
    "    }\n",
    "    feature_extractor {\n",
    "      type: 'faster_rcnn_inception_resnet_v2_keras'\n",
    "    }\n",
    "    first_stage_anchor_generator {\n",
    "      grid_anchor_generator {\n",
    "        scales: [0.25, 0.5, 1.0, 2.0]\n",
    "        aspect_ratios: [0.5, 1.0, 2.0]\n",
    "        height_stride: 16\n",
    "        width_stride: 16\n",
    "      }\n",
    "    }\n",
    "    first_stage_box_predictor_conv_hyperparams {\n",
    "      op: CONV\n",
    "      regularizer {\n",
    "        l2_regularizer {\n",
    "          weight: 0.0\n",
    "        }\n",
    "      }\n",
    "      initializer {\n",
    "        truncated_normal_initializer {\n",
    "          stddev: 0.01\n",
    "        }\n",
    "      }\n",
    "    }\n",
    "    first_stage_nms_score_threshold: 0.0\n",
    "    first_stage_nms_iou_threshold: 0.7\n",
    "    first_stage_max_proposals: 300\n",
    "    first_stage_localization_loss_weight: 2.0\n",
    "    first_stage_objectness_loss_weight: 1.0\n",
    "    initial_crop_size: 17\n",
    "    maxpool_kernel_size: 1\n",
    "    maxpool_stride: 1\n",
    "    second_stage_box_predictor {\n",
    "      mask_rcnn_box_predictor {\n",
    "        use_dropout: false\n",
    "        dropout_keep_probability: 1.0\n",
    "        fc_hyperparams {\n",
    "          op: FC\n",
    "          regularizer {\n",
    "            l2_regularizer {\n",
    "              weight: 0.0\n",
    "            }\n",
    "          }\n",
    "          initializer {\n",
    "            variance_scaling_initializer {\n",
    "              factor: 1.0\n",
    "              uniform: true\n",
    "              mode: FAN_AVG\n",
    "            }\n",
    "          }\n",
    "        }\n",
    "        mask_height: 33\n",
    "        mask_width: 33\n",
    "        mask_prediction_conv_depth: 0\n",
    "        mask_prediction_num_conv_layers: 4\n",
    "        conv_hyperparams {\n",
    "          op: CONV\n",
    "          regularizer {\n",
    "            l2_regularizer {\n",
    "              weight: 0.0\n",
    "            }\n",
    "          }\n",
    "          initializer {\n",
    "            truncated_normal_initializer {\n",
    "              stddev: 0.01\n",
    "            }\n",
    "          }\n",
    "        }\n",
    "        predict_instance_masks: true\n",
    "      }\n",
    "    }\n",
    "    second_stage_post_processing {\n",
    "      batch_non_max_suppression {\n",
    "        score_threshold: 0.0\n",
    "        iou_threshold: 0.6\n",
    "        max_detections_per_class: 100\n",
    "        max_total_detections: 100\n",
    "      }\n",
    "      score_converter: SOFTMAX\n",
    "    }\n",
    "    second_stage_localization_loss_weight: 2.0\n",
    "    second_stage_classification_loss_weight: 1.0\n",
    "    second_stage_mask_prediction_loss_weight: 4.0\n",
    "    resize_masks: false\n",
    "  }\n",
    "}\n",
    "\n",
    "train_config: {\n",
    "  batch_size: 16\n",
    "  num_steps: 200\n",
    "  freeze_variables: []\n",
    "  optimizer {\n",
    "    momentum_optimizer: {\n",
    "      learning_rate: {\n",
    "        cosine_decay_learning_rate {\n",
    "          learning_rate_base: 0.008\n",
    "          total_steps: 200\n",
    "          warmup_learning_rate: 0.0\n",
    "          warmup_steps: 50\n",
    "        }\n",
    "      }\n",
    "      momentum_optimizer_value: 0.9\n",
    "    }\n",
    "    use_moving_average: false\n",
    "  }\n",
    "  gradient_clipping_by_norm: 10.0\n",
    "  fine_tune_checkpoint_version: V2\n",
    "  fine_tune_checkpoint: \"mask_rcnn_inception_resnet_v2_1024x1024_coco17_gpu-8/checkpoint/ckpt-0\"\n",
    "  fine_tune_checkpoint_type: \"detection\"\n",
    "  data_augmentation_options {\n",
    "    random_horizontal_flip {\n",
    "    }\n",
    "  }\n",
    "}\n",
    "\n",
    "train_input_reader: {\n",
    "  label_map_path: \"labelmap.pbtxt\"\n",
    "  tf_record_input_reader {\n",
    "    input_path: \"pet_faces_train.tfrecord\"\n",
    "  }\n",
    "  load_instance_masks: true\n",
    "  mask_type: PNG_MASKS\n",
    "}\n",
    "\n",
    "eval_config: {\n",
    "  metrics_set: \"coco_detection_metrics\"\n",
    "  metrics_set: \"coco_mask_metrics\"\n",
    "  eval_instance_masks: true\n",
    "  use_moving_averages: false\n",
    "  batch_size: 1\n",
    "  include_metrics_per_category: true\n",
    "}\n",
    "\n",
    "eval_input_reader: {\n",
    "  label_map_path: \"labelmap.pbtxt\"\n",
    "  shuffle: false\n",
    "  num_epochs: 1\n",
    "  tf_record_input_reader {\n",
    "    input_path: \"pet_faces_train.tfrecord\"\n",
    "  }\n",
    "  load_instance_masks: true\n",
    "  mask_type: PNG_MASKS\n",
    "}\n",
    "''')"
   ]
  },
  {
   "cell_type": "code",
   "execution_count": 13,
   "metadata": {
    "execution": {
     "iopub.execute_input": "2021-01-20T17:57:11.836134Z",
     "iopub.status.busy": "2021-01-20T17:57:11.835501Z",
     "iopub.status.idle": "2021-01-20T17:57:12.003018Z",
     "shell.execute_reply": "2021-01-20T17:57:11.999753Z",
     "shell.execute_reply.started": "2021-01-20T17:57:11.836057Z"
    }
   },
   "outputs": [],
   "source": [
    "!cp ~/my_workspace/tfod-model-garden/research/object_detection/model_main_tf2.py ."
   ]
  },
  {
   "cell_type": "code",
   "execution_count": 15,
   "metadata": {
    "execution": {
     "iopub.execute_input": "2021-01-20T17:58:20.026782Z",
     "iopub.status.busy": "2021-01-20T17:58:20.026154Z",
     "iopub.status.idle": "2021-01-20T17:58:20.366218Z",
     "shell.execute_reply": "2021-01-20T17:58:20.364930Z",
     "shell.execute_reply.started": "2021-01-20T17:58:20.026685Z"
    }
   },
   "outputs": [
    {
     "name": "stdout",
     "output_type": "stream",
     "text": [
      "Traceback (most recent call last):\n",
      "  File \"model_main_tf2.py\", line 31, in <module>\n",
      "    import tensorflow.compat.v2 as tf\n",
      "ModuleNotFoundError: No module named 'tensorflow'\n"
     ]
    }
   ],
   "source": [
    "!python model_main_tf2.py --pipeline_config_path=mask_rcnn_inception_resnet_v2_1024x1024_coco17_gpu-8.config --model_dir=mask_rcnn_training --alsologtostderr"
   ]
  },
  {
   "cell_type": "code",
   "execution_count": null,
   "metadata": {},
   "outputs": [],
   "source": []
  }
 ],
 "metadata": {
  "kernelspec": {
   "display_name": "tf-gpu-2.3",
   "language": "python",
   "name": "tf-gpu-2.3"
  },
  "language_info": {
   "codemirror_mode": {
    "name": "ipython",
    "version": 3
   },
   "file_extension": ".py",
   "mimetype": "text/x-python",
   "name": "python",
   "nbconvert_exporter": "python",
   "pygments_lexer": "ipython3",
   "version": "3.8.3"
  },
  "widgets": {
   "application/vnd.jupyter.widget-state+json": {
    "state": {},
    "version_major": 2,
    "version_minor": 0
   }
  }
 },
 "nbformat": 4,
 "nbformat_minor": 4
}
