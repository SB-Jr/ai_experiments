{
 "cells": [
  {
   "cell_type": "markdown",
   "metadata": {},
   "source": [
    "# Faster RCNN using TFOD "
   ]
  },
  {
   "cell_type": "markdown",
   "metadata": {},
   "source": [
    "## Load the annotations"
   ]
  },
  {
   "cell_type": "code",
   "execution_count": 1,
   "metadata": {
    "execution": {
     "iopub.execute_input": "2021-01-15T04:13:55.101786Z",
     "iopub.status.busy": "2021-01-15T04:13:55.101146Z",
     "iopub.status.idle": "2021-01-15T04:13:55.529678Z",
     "shell.execute_reply": "2021-01-15T04:13:55.529082Z",
     "shell.execute_reply.started": "2021-01-15T04:13:55.101710Z"
    }
   },
   "outputs": [],
   "source": [
    "import pandas as pd\n",
    "import os"
   ]
  },
  {
   "cell_type": "code",
   "execution_count": 2,
   "metadata": {
    "execution": {
     "iopub.execute_input": "2021-01-15T04:13:56.061694Z",
     "iopub.status.busy": "2021-01-15T04:13:56.061098Z",
     "iopub.status.idle": "2021-01-15T04:13:56.069291Z",
     "shell.execute_reply": "2021-01-15T04:13:56.067070Z",
     "shell.execute_reply.started": "2021-01-15T04:13:56.061625Z"
    }
   },
   "outputs": [],
   "source": [
    "dataset_path = '../../dataset/self_driving_car_udacity/export'"
   ]
  },
  {
   "cell_type": "code",
   "execution_count": 3,
   "metadata": {
    "execution": {
     "iopub.execute_input": "2021-01-15T04:13:56.677238Z",
     "iopub.status.busy": "2021-01-15T04:13:56.676520Z",
     "iopub.status.idle": "2021-01-15T04:13:56.959960Z",
     "shell.execute_reply": "2021-01-15T04:13:56.959122Z",
     "shell.execute_reply.started": "2021-01-15T04:13:56.677161Z"
    }
   },
   "outputs": [],
   "source": [
    "annotations = pd.read_csv(dataset_path + '/_annotations.csv')"
   ]
  },
  {
   "cell_type": "code",
   "execution_count": 4,
   "metadata": {
    "execution": {
     "iopub.execute_input": "2021-01-15T04:13:57.765207Z",
     "iopub.status.busy": "2021-01-15T04:13:57.764989Z",
     "iopub.status.idle": "2021-01-15T04:13:57.780987Z",
     "shell.execute_reply": "2021-01-15T04:13:57.780305Z",
     "shell.execute_reply.started": "2021-01-15T04:13:57.765183Z"
    }
   },
   "outputs": [
    {
     "data": {
      "text/html": [
       "<div>\n",
       "<style scoped>\n",
       "    .dataframe tbody tr th:only-of-type {\n",
       "        vertical-align: middle;\n",
       "    }\n",
       "\n",
       "    .dataframe tbody tr th {\n",
       "        vertical-align: top;\n",
       "    }\n",
       "\n",
       "    .dataframe thead th {\n",
       "        text-align: right;\n",
       "    }\n",
       "</style>\n",
       "<table border=\"1\" class=\"dataframe\">\n",
       "  <thead>\n",
       "    <tr style=\"text-align: right;\">\n",
       "      <th></th>\n",
       "      <th>filename</th>\n",
       "      <th>width</th>\n",
       "      <th>height</th>\n",
       "      <th>class</th>\n",
       "      <th>xmin</th>\n",
       "      <th>ymin</th>\n",
       "      <th>xmax</th>\n",
       "      <th>ymax</th>\n",
       "    </tr>\n",
       "  </thead>\n",
       "  <tbody>\n",
       "    <tr>\n",
       "      <th>0</th>\n",
       "      <td>1478020642210920002_jpg.rf.0020e318772012f5778...</td>\n",
       "      <td>512</td>\n",
       "      <td>512</td>\n",
       "      <td>car</td>\n",
       "      <td>119</td>\n",
       "      <td>238</td>\n",
       "      <td>148</td>\n",
       "      <td>256</td>\n",
       "    </tr>\n",
       "    <tr>\n",
       "      <th>1</th>\n",
       "      <td>1478020642210920002_jpg.rf.0020e318772012f5778...</td>\n",
       "      <td>512</td>\n",
       "      <td>512</td>\n",
       "      <td>car</td>\n",
       "      <td>195</td>\n",
       "      <td>236</td>\n",
       "      <td>209</td>\n",
       "      <td>255</td>\n",
       "    </tr>\n",
       "    <tr>\n",
       "      <th>2</th>\n",
       "      <td>1478020642210920002_jpg.rf.0020e318772012f5778...</td>\n",
       "      <td>512</td>\n",
       "      <td>512</td>\n",
       "      <td>car</td>\n",
       "      <td>205</td>\n",
       "      <td>241</td>\n",
       "      <td>213</td>\n",
       "      <td>257</td>\n",
       "    </tr>\n",
       "    <tr>\n",
       "      <th>3</th>\n",
       "      <td>1478020642210920002_jpg.rf.0020e318772012f5778...</td>\n",
       "      <td>512</td>\n",
       "      <td>512</td>\n",
       "      <td>car</td>\n",
       "      <td>213</td>\n",
       "      <td>236</td>\n",
       "      <td>224</td>\n",
       "      <td>258</td>\n",
       "    </tr>\n",
       "    <tr>\n",
       "      <th>4</th>\n",
       "      <td>1478020642210920002_jpg.rf.0020e318772012f5778...</td>\n",
       "      <td>512</td>\n",
       "      <td>512</td>\n",
       "      <td>car</td>\n",
       "      <td>303</td>\n",
       "      <td>243</td>\n",
       "      <td>323</td>\n",
       "      <td>258</td>\n",
       "    </tr>\n",
       "  </tbody>\n",
       "</table>\n",
       "</div>"
      ],
      "text/plain": [
       "                                            filename  width  height class  \\\n",
       "0  1478020642210920002_jpg.rf.0020e318772012f5778...    512     512   car   \n",
       "1  1478020642210920002_jpg.rf.0020e318772012f5778...    512     512   car   \n",
       "2  1478020642210920002_jpg.rf.0020e318772012f5778...    512     512   car   \n",
       "3  1478020642210920002_jpg.rf.0020e318772012f5778...    512     512   car   \n",
       "4  1478020642210920002_jpg.rf.0020e318772012f5778...    512     512   car   \n",
       "\n",
       "   xmin  ymin  xmax  ymax  \n",
       "0   119   238   148   256  \n",
       "1   195   236   209   255  \n",
       "2   205   241   213   257  \n",
       "3   213   236   224   258  \n",
       "4   303   243   323   258  "
      ]
     },
     "execution_count": 4,
     "metadata": {},
     "output_type": "execute_result"
    }
   ],
   "source": [
    "annotations.head()"
   ]
  },
  {
   "cell_type": "code",
   "execution_count": 5,
   "metadata": {
    "execution": {
     "iopub.execute_input": "2021-01-15T04:13:59.064661Z",
     "iopub.status.busy": "2021-01-15T04:13:59.064444Z",
     "iopub.status.idle": "2021-01-15T04:13:59.073194Z",
     "shell.execute_reply": "2021-01-15T04:13:59.072517Z",
     "shell.execute_reply.started": "2021-01-15T04:13:59.064637Z"
    }
   },
   "outputs": [],
   "source": [
    "annotations = annotations.set_index('filename')"
   ]
  },
  {
   "cell_type": "markdown",
   "metadata": {},
   "source": [
    "## Get the images"
   ]
  },
  {
   "cell_type": "code",
   "execution_count": 6,
   "metadata": {
    "execution": {
     "iopub.execute_input": "2021-01-15T04:14:00.597743Z",
     "iopub.status.busy": "2021-01-15T04:14:00.596793Z",
     "iopub.status.idle": "2021-01-15T04:14:00.658817Z",
     "shell.execute_reply": "2021-01-15T04:14:00.656281Z",
     "shell.execute_reply.started": "2021-01-15T04:14:00.597627Z"
    }
   },
   "outputs": [],
   "source": [
    "images = [f for f in os.listdir(dataset_path) if '.jpg' in f]"
   ]
  },
  {
   "cell_type": "code",
   "execution_count": 7,
   "metadata": {
    "execution": {
     "iopub.execute_input": "2021-01-15T04:14:01.296915Z",
     "iopub.status.busy": "2021-01-15T04:14:01.296268Z",
     "iopub.status.idle": "2021-01-15T04:14:01.308755Z",
     "shell.execute_reply": "2021-01-15T04:14:01.305995Z",
     "shell.execute_reply.started": "2021-01-15T04:14:01.296838Z"
    }
   },
   "outputs": [
    {
     "data": {
      "text/plain": [
       "15000"
      ]
     },
     "execution_count": 7,
     "metadata": {},
     "output_type": "execute_result"
    }
   ],
   "source": [
    "len(images)"
   ]
  },
  {
   "cell_type": "code",
   "execution_count": 8,
   "metadata": {
    "execution": {
     "iopub.execute_input": "2021-01-15T04:14:02.037119Z",
     "iopub.status.busy": "2021-01-15T04:14:02.036471Z",
     "iopub.status.idle": "2021-01-15T04:14:02.046653Z",
     "shell.execute_reply": "2021-01-15T04:14:02.044384Z",
     "shell.execute_reply.started": "2021-01-15T04:14:02.037045Z"
    }
   },
   "outputs": [],
   "source": [
    "train_test_ratio = 0.9\n",
    "train_test_limit = int(train_test_ratio * len(images))\n",
    "train_image_names = images[:train_test_limit]\n",
    "test_image_names = images[train_test_limit:]"
   ]
  },
  {
   "cell_type": "code",
   "execution_count": 9,
   "metadata": {
    "execution": {
     "iopub.execute_input": "2021-01-15T04:14:03.349363Z",
     "iopub.status.busy": "2021-01-15T04:14:03.348722Z",
     "iopub.status.idle": "2021-01-15T04:14:03.362327Z",
     "shell.execute_reply": "2021-01-15T04:14:03.359837Z",
     "shell.execute_reply.started": "2021-01-15T04:14:03.349286Z"
    }
   },
   "outputs": [
    {
     "name": "stdout",
     "output_type": "stream",
     "text": [
      "13500\n",
      "1500\n"
     ]
    }
   ],
   "source": [
    "print(len(train_image_names))\n",
    "print(len(test_image_names))"
   ]
  },
  {
   "cell_type": "markdown",
   "metadata": {},
   "source": [
    "## Create Label Map"
   ]
  },
  {
   "cell_type": "code",
   "execution_count": 10,
   "metadata": {
    "execution": {
     "iopub.execute_input": "2021-01-15T04:14:05.464848Z",
     "iopub.status.busy": "2021-01-15T04:14:05.464191Z",
     "iopub.status.idle": "2021-01-15T04:14:05.495601Z",
     "shell.execute_reply": "2021-01-15T04:14:05.492780Z",
     "shell.execute_reply.started": "2021-01-15T04:14:05.464773Z"
    }
   },
   "outputs": [],
   "source": [
    "labels = annotations['class'].unique()"
   ]
  },
  {
   "cell_type": "code",
   "execution_count": 11,
   "metadata": {
    "execution": {
     "iopub.execute_input": "2021-01-15T04:14:06.160442Z",
     "iopub.status.busy": "2021-01-15T04:14:06.159795Z",
     "iopub.status.idle": "2021-01-15T04:14:06.172916Z",
     "shell.execute_reply": "2021-01-15T04:14:06.170240Z",
     "shell.execute_reply.started": "2021-01-15T04:14:06.160365Z"
    }
   },
   "outputs": [
    {
     "data": {
      "text/plain": [
       "array(['car', 'pedestrian', 'trafficLight-GreenLeft',\n",
       "       'trafficLight-Green', 'trafficLight-Red', 'trafficLight-RedLeft',\n",
       "       'trafficLight', 'truck', 'biker', 'trafficLight-Yellow',\n",
       "       'trafficLight-YellowLeft'], dtype=object)"
      ]
     },
     "execution_count": 11,
     "metadata": {},
     "output_type": "execute_result"
    }
   ],
   "source": [
    "labels"
   ]
  },
  {
   "cell_type": "code",
   "execution_count": 12,
   "metadata": {
    "execution": {
     "iopub.execute_input": "2021-01-15T04:14:07.040862Z",
     "iopub.status.busy": "2021-01-15T04:14:07.040221Z",
     "iopub.status.idle": "2021-01-15T04:14:07.052114Z",
     "shell.execute_reply": "2021-01-15T04:14:07.050064Z",
     "shell.execute_reply.started": "2021-01-15T04:14:07.040788Z"
    }
   },
   "outputs": [],
   "source": [
    "def create_label_map():\n",
    "    with open('label_map.pbtxt', 'w') as f:\n",
    "        for i, l in enumerate(labels):\n",
    "            f.write(\n",
    "                'item {\\n'+\n",
    "                '    id: {}\\n'.format(i+1)+\n",
    "                '    name: \\'{}\\'\\n'.format(l)+\n",
    "                '}\\n\\n'\n",
    "            )\n",
    "\n",
    "create_label_map()"
   ]
  },
  {
   "cell_type": "markdown",
   "metadata": {},
   "source": [
    "## Create TFRecords"
   ]
  },
  {
   "cell_type": "code",
   "execution_count": 13,
   "metadata": {
    "execution": {
     "iopub.execute_input": "2021-01-15T04:14:10.905188Z",
     "iopub.status.busy": "2021-01-15T04:14:10.904966Z",
     "iopub.status.idle": "2021-01-15T04:14:12.419443Z",
     "shell.execute_reply": "2021-01-15T04:14:12.418777Z",
     "shell.execute_reply.started": "2021-01-15T04:14:10.905163Z"
    }
   },
   "outputs": [],
   "source": [
    "from object_detection.utils import label_map_util\n",
    "from object_detection.utils import dataset_util\n",
    "from PIL import Image as pil_image\n",
    "import io\n",
    "import tensorflow as tf"
   ]
  },
  {
   "cell_type": "code",
   "execution_count": 14,
   "metadata": {
    "execution": {
     "iopub.execute_input": "2021-01-15T04:14:13.076100Z",
     "iopub.status.busy": "2021-01-15T04:14:13.075240Z",
     "iopub.status.idle": "2021-01-15T04:14:13.087037Z",
     "shell.execute_reply": "2021-01-15T04:14:13.085860Z",
     "shell.execute_reply.started": "2021-01-15T04:14:13.076009Z"
    }
   },
   "outputs": [],
   "source": [
    "label_map = label_map_util.load_labelmap('label_map.pbtxt')\n",
    "label_map_dict = label_map_util.get_label_map_dict(label_map)"
   ]
  },
  {
   "cell_type": "code",
   "execution_count": 15,
   "metadata": {
    "execution": {
     "iopub.execute_input": "2021-01-15T04:14:13.969031Z",
     "iopub.status.busy": "2021-01-15T04:14:13.968678Z",
     "iopub.status.idle": "2021-01-15T04:14:13.975164Z",
     "shell.execute_reply": "2021-01-15T04:14:13.974549Z",
     "shell.execute_reply.started": "2021-01-15T04:14:13.968991Z"
    }
   },
   "outputs": [
    {
     "data": {
      "text/plain": [
       "{'car': 1,\n",
       " 'pedestrian': 2,\n",
       " 'trafficLight-GreenLeft': 3,\n",
       " 'trafficLight-Green': 4,\n",
       " 'trafficLight-Red': 5,\n",
       " 'trafficLight-RedLeft': 6,\n",
       " 'trafficLight': 7,\n",
       " 'truck': 8,\n",
       " 'biker': 9,\n",
       " 'trafficLight-Yellow': 10,\n",
       " 'trafficLight-YellowLeft': 11}"
      ]
     },
     "execution_count": 15,
     "metadata": {},
     "output_type": "execute_result"
    }
   ],
   "source": [
    "label_map_dict"
   ]
  },
  {
   "cell_type": "code",
   "execution_count": 16,
   "metadata": {
    "execution": {
     "iopub.execute_input": "2021-01-15T04:14:14.702634Z",
     "iopub.status.busy": "2021-01-15T04:14:14.702047Z",
     "iopub.status.idle": "2021-01-15T04:14:14.732253Z",
     "shell.execute_reply": "2021-01-15T04:14:14.729887Z",
     "shell.execute_reply.started": "2021-01-15T04:14:14.702564Z"
    }
   },
   "outputs": [],
   "source": [
    "def create_tfrecords(image_names, record_name):\n",
    "    writer = tf.io.TFRecordWriter(record_name)\n",
    "    \n",
    "    for image_name in image_names:\n",
    "        if image_name not in annotations.index:\n",
    "            continue\n",
    "        image_path = os.path.join(dataset_path, image_name)\n",
    "        with open(image_path, 'rb') as fid:\n",
    "            encoded_jpg = fid.read()\n",
    "        img_opened = pil_image.open(image_path)\n",
    "        width, height = img_opened.size\n",
    "        filename = image_path.encode('utf8')\n",
    "        image_format = b'jpg'\n",
    "\n",
    "        img_annot_details = annotations.loc[image_name]\n",
    "        if type(img_annot_details['class']) is str:\n",
    "            xmins = [img_annot_details['xmin']]\n",
    "            ymins = [img_annot_details['ymin']]\n",
    "            xmaxs = [img_annot_details['xmax']]\n",
    "            ymaxs = [img_annot_details['ymax']]\n",
    "            labels = [img_annot_details['class']]\n",
    "        else:\n",
    "            xmins = img_annot_details['xmin'].tolist()\n",
    "            ymins = img_annot_details['ymin'].tolist()\n",
    "            xmaxs = img_annot_details['xmax'].tolist()\n",
    "            ymaxs = img_annot_details['ymax'].tolist()\n",
    "            labels = img_annot_details['class'].tolist()\n",
    "        classes = [label_map_dict[c] for c in labels]\n",
    "        labels = [l.encode('utf8') for l in labels]\n",
    "\n",
    "        example = tf.train.Example(features=tf.train.Features(feature={\n",
    "            'image/height': dataset_util.int64_feature(height),\n",
    "            'image/width': dataset_util.int64_feature(width),\n",
    "            'image/filename': dataset_util.bytes_feature(filename),\n",
    "            'image/source_id': dataset_util.bytes_feature(filename),\n",
    "            'image/encoded': dataset_util.bytes_feature(encoded_jpg),\n",
    "            'image/format': dataset_util.bytes_feature(image_format),\n",
    "            'image/object/bbox/xmin': dataset_util.float_list_feature(xmins),\n",
    "            'image/object/bbox/xmax': dataset_util.float_list_feature(xmaxs),\n",
    "            'image/object/bbox/ymin': dataset_util.float_list_feature(ymins),\n",
    "            'image/object/bbox/ymax': dataset_util.float_list_feature(ymaxs),\n",
    "            'image/object/class/text': dataset_util.bytes_list_feature(labels),\n",
    "            'image/object/class/label': dataset_util.int64_list_feature(classes),\n",
    "        }))\n",
    "\n",
    "        \n",
    "        writer.write(example.SerializeToString())\n",
    "        \n",
    "    writer.close()"
   ]
  },
  {
   "cell_type": "code",
   "execution_count": 17,
   "metadata": {
    "execution": {
     "iopub.execute_input": "2021-01-15T04:14:16.679540Z",
     "iopub.status.busy": "2021-01-15T04:14:16.678462Z",
     "iopub.status.idle": "2021-01-15T04:15:09.186068Z",
     "shell.execute_reply": "2021-01-15T04:15:09.183969Z",
     "shell.execute_reply.started": "2021-01-15T04:14:16.679406Z"
    }
   },
   "outputs": [],
   "source": [
    "create_tfrecords(train_image_names, 'train.record')"
   ]
  },
  {
   "cell_type": "code",
   "execution_count": 18,
   "metadata": {
    "execution": {
     "iopub.execute_input": "2021-01-15T04:15:09.204170Z",
     "iopub.status.busy": "2021-01-15T04:15:09.203554Z",
     "iopub.status.idle": "2021-01-15T04:15:14.763060Z",
     "shell.execute_reply": "2021-01-15T04:15:14.761255Z",
     "shell.execute_reply.started": "2021-01-15T04:15:09.204094Z"
    }
   },
   "outputs": [],
   "source": [
    "create_tfrecords(test_image_names, 'test.record')"
   ]
  },
  {
   "cell_type": "markdown",
   "metadata": {},
   "source": [
    "## Download a Pre-Trained Model\n",
    "\n",
    "\n",
    "Model Zoo: https://github.com/tensorflow/models/blob/master/research/object_detection/g3doc/tf2_detection_zoo.md"
   ]
  },
  {
   "cell_type": "markdown",
   "metadata": {},
   "source": [
    "## Configure Training Pipeline"
   ]
  },
  {
   "cell_type": "markdown",
   "metadata": {
    "execution": {
     "iopub.execute_input": "2021-01-15T03:39:57.033670Z",
     "iopub.status.busy": "2021-01-15T03:39:57.033017Z",
     "iopub.status.idle": "2021-01-15T03:39:57.338008Z",
     "shell.execute_reply": "2021-01-15T03:39:57.335121Z",
     "shell.execute_reply.started": "2021-01-15T03:39:57.033598Z"
    }
   },
   "source": [
    "```\n",
    "mkdir my_training\n",
    "cp faster_rcnn_inception_resnet_v2_640x640_coco17_tpu-8/pipeline.config my_training/\n",
    "```"
   ]
  },
  {
   "cell_type": "markdown",
   "metadata": {},
   "source": [
    "Update the pipeline.config in my_training as per requirement"
   ]
  },
  {
   "cell_type": "markdown",
   "metadata": {
    "execution": {
     "iopub.execute_input": "2021-01-15T03:48:04.549504Z",
     "iopub.status.busy": "2021-01-15T03:48:04.548813Z",
     "iopub.status.idle": "2021-01-15T03:48:04.715545Z",
     "shell.execute_reply": "2021-01-15T03:48:04.712497Z",
     "shell.execute_reply.started": "2021-01-15T03:48:04.549420Z"
    }
   },
   "source": [
    "```\n",
    "cp /home/sbjr/my_workspace/tfod-model-garden/research/object_detection/model_main_tf2.py .\n",
    "```"
   ]
  },
  {
   "cell_type": "markdown",
   "metadata": {},
   "source": [
    "## Training"
   ]
  },
  {
   "cell_type": "markdown",
   "metadata": {},
   "source": [
    "```\n",
    "python model_main_tf2.py --model_dir=faster_rcnn_inception_resnet_v2_640x640_coco17_tpu-8/ --pipeline_config_path=my_training/pipeline.config\n",
    "```"
   ]
  },
  {
   "cell_type": "code",
   "execution_count": null,
   "metadata": {},
   "outputs": [],
   "source": []
  }
 ],
 "metadata": {
  "kernelspec": {
   "display_name": "tf-gpu-2.3",
   "language": "python",
   "name": "tf-gpu-2.3"
  },
  "language_info": {
   "codemirror_mode": {
    "name": "ipython",
    "version": 3
   },
   "file_extension": ".py",
   "mimetype": "text/x-python",
   "name": "python",
   "nbconvert_exporter": "python",
   "pygments_lexer": "ipython3",
   "version": "3.8.3"
  },
  "widgets": {
   "application/vnd.jupyter.widget-state+json": {
    "state": {},
    "version_major": 2,
    "version_minor": 0
   }
  }
 },
 "nbformat": 4,
 "nbformat_minor": 4
}
